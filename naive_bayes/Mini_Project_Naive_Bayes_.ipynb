{
 "cells": [
  {
   "cell_type": "markdown",
   "metadata": {},
   "source": [
    "# Basic Text Classification with Naive Bayes\n",
    "***\n",
    "In the mini-project, you'll learn the basics of text analysis using a subset of movie reviews from the rotten tomatoes database. You'll also use a fundamental technique in Bayesian inference, called Naive Bayes. This mini-project is based on [Lab 10 of Harvard's CS109](https://github.com/cs109/2015lab10) class.  Please free to go to the original lab for additional exercises and solutions."
   ]
  },
  {
   "cell_type": "code",
   "execution_count": 1,
   "metadata": {
    "collapsed": true
   },
   "outputs": [],
   "source": [
    "%matplotlib inline\n",
    "import numpy as np\n",
    "import scipy as sp\n",
    "import matplotlib as mpl\n",
    "import matplotlib.cm as cm\n",
    "import matplotlib.pyplot as plt\n",
    "import pandas as pd\n",
    "import seaborn as sns\n",
    "from six.moves import range\n",
    "\n",
    "# Setup Pandas\n",
    "pd.set_option('display.width', 500)\n",
    "pd.set_option('display.max_columns', 100)\n",
    "pd.set_option('display.notebook_repr_html', True)\n",
    "\n",
    "# Setup Seaborn\n",
    "sns.set_style(\"whitegrid\")\n",
    "sns.set_context(\"poster\")\n",
    "\n",
    "from IPython.core.display import HTML\n",
    "\n",
    "from pylab import rcParams\n",
    "rcParams['figure.figsize'] = 15, 7"
   ]
  },
  {
   "cell_type": "code",
   "execution_count": 2,
   "metadata": {},
   "outputs": [
    {
     "data": {
      "text/html": [
       "\n",
       "<style>\n",
       "\n",
       "blockquote {\n",
       "  background: #e5b5c7;\n",
       "  border-left: 10px solid #933256;\n",
       "  margin: 1.5em 10px;\n",
       "  padding: 0.5em 10px;\n",
       "  quotes: ;\n",
       "}\n",
       "blockquote:before {\n",
       "  color: #933256;\n",
       "  content: \"\\201C\";\n",
       "  font-size: 4em;\n",
       "  line-height: 0.1em;\n",
       "  margin-right: 0.25em;\n",
       "  vertical-align: -0.4em;\n",
       "}\n",
       "\n",
       "\n",
       "\n",
       "blockquote:after\n",
       " {\n",
       "  color: #933256;\n",
       "  content: \"\\201D\";\n",
       "  font-size: 4em;\n",
       "  position:absolute;\n",
       "  right:1px;\n",
       "  bottom: 0em;\n",
       "  line-height: 0.7em;\n",
       "  margin-right: 0.7em;\n",
       "\n",
       "}\n",
       "\n",
       "blockquote p {\n",
       "  display: inline;\n",
       "}\n",
       "\n",
       "</style>\n"
      ],
      "text/plain": [
       "<IPython.core.display.HTML object>"
      ]
     },
     "execution_count": 2,
     "metadata": {},
     "output_type": "execute_result"
    }
   ],
   "source": [
    "HTML(\"\"\"\n",
    "<style>\n",
    "\n",
    "blockquote {\n",
    "  background: #e5b5c7;\n",
    "  border-left: 10px solid #933256;\n",
    "  margin: 1.5em 10px;\n",
    "  padding: 0.5em 10px;\n",
    "  quotes: ;\n",
    "}\n",
    "blockquote:before {\n",
    "  color: #933256;\n",
    "  content: \"\\\\201C\";\n",
    "  font-size: 4em;\n",
    "  line-height: 0.1em;\n",
    "  margin-right: 0.25em;\n",
    "  vertical-align: -0.4em;\n",
    "}\n",
    "\n",
    "\n",
    "\n",
    "blockquote:after\n",
    " {\n",
    "  color: #933256;\n",
    "  content: \"\\\\201D\";\n",
    "  font-size: 4em;\n",
    "  position:absolute;\n",
    "  right:1px;\n",
    "  bottom: 0em;\n",
    "  line-height: 0.7em;\n",
    "  margin-right: 0.7em;\n",
    "\n",
    "}\n",
    "\n",
    "blockquote p {\n",
    "  display: inline;\n",
    "}\n",
    "\n",
    "</style>\n",
    "\"\"\")"
   ]
  },
  {
   "cell_type": "markdown",
   "metadata": {},
   "source": [
    "# Table of Contents\n",
    "\n",
    "* [Rotten Tomatoes Dataset](#Rotten-Tomatoes-Dataset)\n",
    "    * [Explore](#Explore)\n",
    "* [The Vector Space Model and a Search Engine](#The-Vector-Space-Model-and-a-Search-Engine)\n",
    "    * [In Code](#In-Code)\n",
    "* [Naive Bayes](#Naive-Bayes)\n",
    "    * [Multinomial Naive Bayes and Other Likelihood Functions](#Multinomial-Naive-Bayes-and-Other-Likelihood-Functions)\n",
    "    * [Picking Hyperparameters for Naive Bayes and Text Maintenance](#Picking-Hyperparameters-for-Naive-Bayes-and-Text-Maintenance)\n",
    "* [Interpretation](#Interpretation)\n"
   ]
  },
  {
   "cell_type": "markdown",
   "metadata": {},
   "source": [
    "## Rotten Tomatoes Dataset"
   ]
  },
  {
   "cell_type": "code",
   "execution_count": 3,
   "metadata": {},
   "outputs": [
    {
     "data": {
      "text/html": [
       "<div>\n",
       "<style scoped>\n",
       "    .dataframe tbody tr th:only-of-type {\n",
       "        vertical-align: middle;\n",
       "    }\n",
       "\n",
       "    .dataframe tbody tr th {\n",
       "        vertical-align: top;\n",
       "    }\n",
       "\n",
       "    .dataframe thead th {\n",
       "        text-align: right;\n",
       "    }\n",
       "</style>\n",
       "<table border=\"1\" class=\"dataframe\">\n",
       "  <thead>\n",
       "    <tr style=\"text-align: right;\">\n",
       "      <th></th>\n",
       "      <th>critic</th>\n",
       "      <th>fresh</th>\n",
       "      <th>imdb</th>\n",
       "      <th>publication</th>\n",
       "      <th>quote</th>\n",
       "      <th>review_date</th>\n",
       "      <th>rtid</th>\n",
       "      <th>title</th>\n",
       "    </tr>\n",
       "  </thead>\n",
       "  <tbody>\n",
       "    <tr>\n",
       "      <th>1</th>\n",
       "      <td>Derek Adams</td>\n",
       "      <td>fresh</td>\n",
       "      <td>114709</td>\n",
       "      <td>Time Out</td>\n",
       "      <td>So ingenious in concept, design and execution ...</td>\n",
       "      <td>2009-10-04</td>\n",
       "      <td>9559</td>\n",
       "      <td>Toy story</td>\n",
       "    </tr>\n",
       "    <tr>\n",
       "      <th>2</th>\n",
       "      <td>Richard Corliss</td>\n",
       "      <td>fresh</td>\n",
       "      <td>114709</td>\n",
       "      <td>TIME Magazine</td>\n",
       "      <td>The year's most inventive comedy.</td>\n",
       "      <td>2008-08-31</td>\n",
       "      <td>9559</td>\n",
       "      <td>Toy story</td>\n",
       "    </tr>\n",
       "    <tr>\n",
       "      <th>3</th>\n",
       "      <td>David Ansen</td>\n",
       "      <td>fresh</td>\n",
       "      <td>114709</td>\n",
       "      <td>Newsweek</td>\n",
       "      <td>A winning animated feature that has something ...</td>\n",
       "      <td>2008-08-18</td>\n",
       "      <td>9559</td>\n",
       "      <td>Toy story</td>\n",
       "    </tr>\n",
       "    <tr>\n",
       "      <th>4</th>\n",
       "      <td>Leonard Klady</td>\n",
       "      <td>fresh</td>\n",
       "      <td>114709</td>\n",
       "      <td>Variety</td>\n",
       "      <td>The film sports a provocative and appealing st...</td>\n",
       "      <td>2008-06-09</td>\n",
       "      <td>9559</td>\n",
       "      <td>Toy story</td>\n",
       "    </tr>\n",
       "    <tr>\n",
       "      <th>5</th>\n",
       "      <td>Jonathan Rosenbaum</td>\n",
       "      <td>fresh</td>\n",
       "      <td>114709</td>\n",
       "      <td>Chicago Reader</td>\n",
       "      <td>An entertaining computer-generated, hyperreali...</td>\n",
       "      <td>2008-03-10</td>\n",
       "      <td>9559</td>\n",
       "      <td>Toy story</td>\n",
       "    </tr>\n",
       "  </tbody>\n",
       "</table>\n",
       "</div>"
      ],
      "text/plain": [
       "               critic  fresh    imdb     publication                                              quote review_date  rtid      title\n",
       "1         Derek Adams  fresh  114709        Time Out  So ingenious in concept, design and execution ...  2009-10-04  9559  Toy story\n",
       "2     Richard Corliss  fresh  114709   TIME Magazine                  The year's most inventive comedy.  2008-08-31  9559  Toy story\n",
       "3         David Ansen  fresh  114709        Newsweek  A winning animated feature that has something ...  2008-08-18  9559  Toy story\n",
       "4       Leonard Klady  fresh  114709         Variety  The film sports a provocative and appealing st...  2008-06-09  9559  Toy story\n",
       "5  Jonathan Rosenbaum  fresh  114709  Chicago Reader  An entertaining computer-generated, hyperreali...  2008-03-10  9559  Toy story"
      ]
     },
     "execution_count": 3,
     "metadata": {},
     "output_type": "execute_result"
    }
   ],
   "source": [
    "critics = pd.read_csv('./critics.csv')\n",
    "#let's drop rows with missing quotes\n",
    "critics = critics[~critics.quote.isnull()]\n",
    "critics.head()"
   ]
  },
  {
   "cell_type": "markdown",
   "metadata": {},
   "source": [
    "### Explore"
   ]
  },
  {
   "cell_type": "code",
   "execution_count": 4,
   "metadata": {},
   "outputs": [
    {
     "name": "stdout",
     "output_type": "stream",
     "text": [
      "Number of reviews: 15561\n",
      "Number of critics: 623\n",
      "Number of movies:  1921\n"
     ]
    }
   ],
   "source": [
    "n_reviews = len(critics)\n",
    "n_movies = critics.rtid.unique().size\n",
    "n_critics = critics.critic.unique().size\n",
    "\n",
    "\n",
    "print(\"Number of reviews: {:d}\".format(n_reviews))\n",
    "print(\"Number of critics: {:d}\".format(n_critics))\n",
    "print(\"Number of movies:  {:d}\".format(n_movies))"
   ]
  },
  {
   "cell_type": "code",
   "execution_count": 5,
   "metadata": {},
   "outputs": [
    {
     "data": {
      "image/png": "[encoded data removed]",
      "text/plain": [
       "<matplotlib.figure.Figure at 0x7fde83363390>"
      ]
     },
     "metadata": {},
     "output_type": "display_data"
    }
   ],
   "source": [
    "df = critics.copy()\n",
    "df['fresh'] = df.fresh == 'fresh'\n",
    "rcParams['figure.figsize'] = 15, 7\n",
    "\n",
    "grp = df.groupby('critic')\n",
    "counts = grp.critic.count()  # number of reviews by each critic\n",
    "means = grp.fresh.mean()     # average freshness for each critic\n",
    "\n",
    "means[counts > 100].hist(bins=10, edgecolor='w', lw=1)\n",
    "\n",
    "plt.xlabel(\"Average Rating per critic\")  \n",
    "plt.ylabel(\"Number of Critics\")\n",
    "plt.yticks([0, 2, 4, 6, 8, 10]);"
   ]
  },
  {
   "cell_type": "code",
   "execution_count": 6,
   "metadata": {},
   "outputs": [
    {
     "data": {
      "text/plain": [
       "critic\n",
       "A.D. Murphy     1.000000\n",
       "A.H. Weiler     0.705882\n",
       "A.O. Scott      0.368421\n",
       "Aaron Hillis    1.000000\n",
       "Abel Green      1.000000\n",
       "Name: fresh, dtype: float64"
      ]
     },
     "execution_count": 6,
     "metadata": {},
     "output_type": "execute_result"
    }
   ],
   "source": [
    "means.head(5)"
   ]
  },
  {
   "cell_type": "code",
   "execution_count": 7,
   "metadata": {},
   "outputs": [
    {
     "data": {
      "text/html": [
       "<div>\n",
       "<style scoped>\n",
       "    .dataframe tbody tr th:only-of-type {\n",
       "        vertical-align: middle;\n",
       "    }\n",
       "\n",
       "    .dataframe tbody tr th {\n",
       "        vertical-align: top;\n",
       "    }\n",
       "\n",
       "    .dataframe thead th {\n",
       "        text-align: right;\n",
       "    }\n",
       "</style>\n",
       "<table border=\"1\" class=\"dataframe\">\n",
       "  <thead>\n",
       "    <tr style=\"text-align: right;\">\n",
       "      <th></th>\n",
       "      <th>critic</th>\n",
       "      <th>fresh</th>\n",
       "      <th>imdb</th>\n",
       "      <th>publication</th>\n",
       "      <th>quote</th>\n",
       "      <th>review_date</th>\n",
       "      <th>rtid</th>\n",
       "      <th>title</th>\n",
       "    </tr>\n",
       "  </thead>\n",
       "  <tbody>\n",
       "    <tr>\n",
       "      <th>1</th>\n",
       "      <td>Derek Adams</td>\n",
       "      <td>True</td>\n",
       "      <td>114709</td>\n",
       "      <td>Time Out</td>\n",
       "      <td>So ingenious in concept, design and execution ...</td>\n",
       "      <td>2009-10-04</td>\n",
       "      <td>9559</td>\n",
       "      <td>Toy story</td>\n",
       "    </tr>\n",
       "    <tr>\n",
       "      <th>2</th>\n",
       "      <td>Richard Corliss</td>\n",
       "      <td>True</td>\n",
       "      <td>114709</td>\n",
       "      <td>TIME Magazine</td>\n",
       "      <td>The year's most inventive comedy.</td>\n",
       "      <td>2008-08-31</td>\n",
       "      <td>9559</td>\n",
       "      <td>Toy story</td>\n",
       "    </tr>\n",
       "    <tr>\n",
       "      <th>3</th>\n",
       "      <td>David Ansen</td>\n",
       "      <td>True</td>\n",
       "      <td>114709</td>\n",
       "      <td>Newsweek</td>\n",
       "      <td>A winning animated feature that has something ...</td>\n",
       "      <td>2008-08-18</td>\n",
       "      <td>9559</td>\n",
       "      <td>Toy story</td>\n",
       "    </tr>\n",
       "    <tr>\n",
       "      <th>4</th>\n",
       "      <td>Leonard Klady</td>\n",
       "      <td>True</td>\n",
       "      <td>114709</td>\n",
       "      <td>Variety</td>\n",
       "      <td>The film sports a provocative and appealing st...</td>\n",
       "      <td>2008-06-09</td>\n",
       "      <td>9559</td>\n",
       "      <td>Toy story</td>\n",
       "    </tr>\n",
       "    <tr>\n",
       "      <th>5</th>\n",
       "      <td>Jonathan Rosenbaum</td>\n",
       "      <td>True</td>\n",
       "      <td>114709</td>\n",
       "      <td>Chicago Reader</td>\n",
       "      <td>An entertaining computer-generated, hyperreali...</td>\n",
       "      <td>2008-03-10</td>\n",
       "      <td>9559</td>\n",
       "      <td>Toy story</td>\n",
       "    </tr>\n",
       "    <tr>\n",
       "      <th>6</th>\n",
       "      <td>Michael Booth</td>\n",
       "      <td>True</td>\n",
       "      <td>114709</td>\n",
       "      <td>Denver Post</td>\n",
       "      <td>As Lion King did before it, Toy Story revived ...</td>\n",
       "      <td>2007-05-03</td>\n",
       "      <td>9559</td>\n",
       "      <td>Toy story</td>\n",
       "    </tr>\n",
       "    <tr>\n",
       "      <th>7</th>\n",
       "      <td>Geoff Andrew</td>\n",
       "      <td>True</td>\n",
       "      <td>114709</td>\n",
       "      <td>Time Out</td>\n",
       "      <td>The film will probably be more fully appreciat...</td>\n",
       "      <td>2006-06-24</td>\n",
       "      <td>9559</td>\n",
       "      <td>Toy story</td>\n",
       "    </tr>\n",
       "    <tr>\n",
       "      <th>8</th>\n",
       "      <td>Janet Maslin</td>\n",
       "      <td>True</td>\n",
       "      <td>114709</td>\n",
       "      <td>New York Times</td>\n",
       "      <td>Children will enjoy a new take on the irresist...</td>\n",
       "      <td>2003-05-20</td>\n",
       "      <td>9559</td>\n",
       "      <td>Toy story</td>\n",
       "    </tr>\n",
       "    <tr>\n",
       "      <th>9</th>\n",
       "      <td>Kenneth Turan</td>\n",
       "      <td>True</td>\n",
       "      <td>114709</td>\n",
       "      <td>Los Angeles Times</td>\n",
       "      <td>Although its computer-generated imagery is imp...</td>\n",
       "      <td>2001-02-13</td>\n",
       "      <td>9559</td>\n",
       "      <td>Toy story</td>\n",
       "    </tr>\n",
       "    <tr>\n",
       "      <th>10</th>\n",
       "      <td>Susan Wloszczyna</td>\n",
       "      <td>True</td>\n",
       "      <td>114709</td>\n",
       "      <td>USA Today</td>\n",
       "      <td>How perfect that two of the most popular funny...</td>\n",
       "      <td>2000-01-01</td>\n",
       "      <td>9559</td>\n",
       "      <td>Toy story</td>\n",
       "    </tr>\n",
       "    <tr>\n",
       "      <th>11</th>\n",
       "      <td>Roger Ebert</td>\n",
       "      <td>True</td>\n",
       "      <td>114709</td>\n",
       "      <td>Chicago Sun-Times</td>\n",
       "      <td>The result is a visionary roller-coaster ride ...</td>\n",
       "      <td>2000-01-01</td>\n",
       "      <td>9559</td>\n",
       "      <td>Toy story</td>\n",
       "    </tr>\n",
       "    <tr>\n",
       "      <th>12</th>\n",
       "      <td>John Hartl</td>\n",
       "      <td>True</td>\n",
       "      <td>114709</td>\n",
       "      <td>Film.com</td>\n",
       "      <td>Disney's witty, wondrously imaginative, all-co...</td>\n",
       "      <td>2000-01-01</td>\n",
       "      <td>9559</td>\n",
       "      <td>Toy story</td>\n",
       "    </tr>\n",
       "    <tr>\n",
       "      <th>13</th>\n",
       "      <td>Susan Stark</td>\n",
       "      <td>True</td>\n",
       "      <td>114709</td>\n",
       "      <td>Detroit News</td>\n",
       "      <td>Disney's first computer-made animated feature ...</td>\n",
       "      <td>2000-01-01</td>\n",
       "      <td>9559</td>\n",
       "      <td>Toy story</td>\n",
       "    </tr>\n",
       "    <tr>\n",
       "      <th>14</th>\n",
       "      <td>Peter Stack</td>\n",
       "      <td>True</td>\n",
       "      <td>114709</td>\n",
       "      <td>San Francisco Chronicle</td>\n",
       "      <td>The script, by Lasseter, Pete Docter, Andrew S...</td>\n",
       "      <td>2000-01-01</td>\n",
       "      <td>9559</td>\n",
       "      <td>Toy story</td>\n",
       "    </tr>\n",
       "    <tr>\n",
       "      <th>15</th>\n",
       "      <td>James Berardinelli</td>\n",
       "      <td>True</td>\n",
       "      <td>114709</td>\n",
       "      <td>ReelViews</td>\n",
       "      <td>The one big negative about Toy Story involves ...</td>\n",
       "      <td>2000-01-01</td>\n",
       "      <td>9559</td>\n",
       "      <td>Toy story</td>\n",
       "    </tr>\n",
       "    <tr>\n",
       "      <th>16</th>\n",
       "      <td>Sean Means</td>\n",
       "      <td>True</td>\n",
       "      <td>114709</td>\n",
       "      <td>Film.com</td>\n",
       "      <td>Technically, Toy Story is nearly flawless.</td>\n",
       "      <td>2000-01-01</td>\n",
       "      <td>9559</td>\n",
       "      <td>Toy story</td>\n",
       "    </tr>\n",
       "    <tr>\n",
       "      <th>17</th>\n",
       "      <td>Rita Kempley</td>\n",
       "      <td>True</td>\n",
       "      <td>114709</td>\n",
       "      <td>Washington Post</td>\n",
       "      <td>It's a nice change of pace to see the studio d...</td>\n",
       "      <td>2000-01-01</td>\n",
       "      <td>9559</td>\n",
       "      <td>Toy story</td>\n",
       "    </tr>\n",
       "    <tr>\n",
       "      <th>18</th>\n",
       "      <td>NaN</td>\n",
       "      <td>True</td>\n",
       "      <td>114709</td>\n",
       "      <td>Entertainment Weekly</td>\n",
       "      <td>I can hardly imagine having more fun at the mo...</td>\n",
       "      <td>1995-11-22</td>\n",
       "      <td>9559</td>\n",
       "      <td>Toy story</td>\n",
       "    </tr>\n",
       "    <tr>\n",
       "      <th>19</th>\n",
       "      <td>Roger Moore</td>\n",
       "      <td>True</td>\n",
       "      <td>114709</td>\n",
       "      <td>Orlando Sentinel</td>\n",
       "      <td>The great voice acting, the visual puns, all a...</td>\n",
       "      <td>1995-11-22</td>\n",
       "      <td>9559</td>\n",
       "      <td>Toy story</td>\n",
       "    </tr>\n",
       "    <tr>\n",
       "      <th>36</th>\n",
       "      <td>Richard Schickel</td>\n",
       "      <td>True</td>\n",
       "      <td>107050</td>\n",
       "      <td>TIME Magazine</td>\n",
       "      <td>Walter Matthau and Jack Lemmon are awfully goo...</td>\n",
       "      <td>2008-08-24</td>\n",
       "      <td>10498</td>\n",
       "      <td>Grumpy Old Men</td>\n",
       "    </tr>\n",
       "    <tr>\n",
       "      <th>38</th>\n",
       "      <td>Caryn James</td>\n",
       "      <td>True</td>\n",
       "      <td>107050</td>\n",
       "      <td>New York Times</td>\n",
       "      <td>Just don't expect their bickering to be on the...</td>\n",
       "      <td>2003-05-20</td>\n",
       "      <td>10498</td>\n",
       "      <td>Grumpy Old Men</td>\n",
       "    </tr>\n",
       "    <tr>\n",
       "      <th>41</th>\n",
       "      <td>Desson Thomson</td>\n",
       "      <td>True</td>\n",
       "      <td>107050</td>\n",
       "      <td>Washington Post</td>\n",
       "      <td>If you poke through Grumpy's cheap sentimental...</td>\n",
       "      <td>2000-01-01</td>\n",
       "      <td>10498</td>\n",
       "      <td>Grumpy Old Men</td>\n",
       "    </tr>\n",
       "    <tr>\n",
       "      <th>47</th>\n",
       "      <td>Liam Lacey</td>\n",
       "      <td>False</td>\n",
       "      <td>114885</td>\n",
       "      <td>Globe and Mail</td>\n",
       "      <td>Never escapes the queasy aura of Melrose Place...</td>\n",
       "      <td>2002-04-12</td>\n",
       "      <td>16697</td>\n",
       "      <td>Waiting to Exhale</td>\n",
       "    </tr>\n",
       "    <tr>\n",
       "      <th>49</th>\n",
       "      <td>Edward Guthmann</td>\n",
       "      <td>False</td>\n",
       "      <td>114885</td>\n",
       "      <td>San Francisco Chronicle</td>\n",
       "      <td>You want the movie to stomp and rejoice and cr...</td>\n",
       "      <td>2000-01-01</td>\n",
       "      <td>16697</td>\n",
       "      <td>Waiting to Exhale</td>\n",
       "    </tr>\n",
       "    <tr>\n",
       "      <th>51</th>\n",
       "      <td>Joan Walsh</td>\n",
       "      <td>False</td>\n",
       "      <td>114885</td>\n",
       "      <td>Salon.com</td>\n",
       "      <td>The male-bashing taken to an extreme in Waitin...</td>\n",
       "      <td>2000-01-01</td>\n",
       "      <td>16697</td>\n",
       "      <td>Waiting to Exhale</td>\n",
       "    </tr>\n",
       "    <tr>\n",
       "      <th>53</th>\n",
       "      <td>Joe Baltake</td>\n",
       "      <td>False</td>\n",
       "      <td>114885</td>\n",
       "      <td>Sacramento Bee</td>\n",
       "      <td>With one possible exception, none of its women...</td>\n",
       "      <td>2000-01-01</td>\n",
       "      <td>16697</td>\n",
       "      <td>Waiting to Exhale</td>\n",
       "    </tr>\n",
       "    <tr>\n",
       "      <th>64</th>\n",
       "      <td>Mike Clark</td>\n",
       "      <td>False</td>\n",
       "      <td>113041</td>\n",
       "      <td>USA Today</td>\n",
       "      <td>Martin, Keaton and cinematographer William A. ...</td>\n",
       "      <td>2000-01-01</td>\n",
       "      <td>10379</td>\n",
       "      <td>Father of the Bride Part II</td>\n",
       "    </tr>\n",
       "    <tr>\n",
       "      <th>72</th>\n",
       "      <td>Todd McCarthy</td>\n",
       "      <td>True</td>\n",
       "      <td>113277</td>\n",
       "      <td>Variety</td>\n",
       "      <td>Heat occupies an exalted position among the co...</td>\n",
       "      <td>2008-10-16</td>\n",
       "      <td>13098</td>\n",
       "      <td>Heat</td>\n",
       "    </tr>\n",
       "    <tr>\n",
       "      <th>73</th>\n",
       "      <td>Peter Travers</td>\n",
       "      <td>True</td>\n",
       "      <td>113277</td>\n",
       "      <td>Rolling Stone</td>\n",
       "      <td>Robert De Niro's last great role before he dev...</td>\n",
       "      <td>2007-08-14</td>\n",
       "      <td>13098</td>\n",
       "      <td>Heat</td>\n",
       "    </tr>\n",
       "    <tr>\n",
       "      <th>79</th>\n",
       "      <td>Andrew Ross</td>\n",
       "      <td>False</td>\n",
       "      <td>113277</td>\n",
       "      <td>Salon.com</td>\n",
       "      <td>All the squealing tires, flying bullets and fa...</td>\n",
       "      <td>2000-01-01</td>\n",
       "      <td>13098</td>\n",
       "      <td>Heat</td>\n",
       "    </tr>\n",
       "    <tr>\n",
       "      <th>...</th>\n",
       "      <td>...</td>\n",
       "      <td>...</td>\n",
       "      <td>...</td>\n",
       "      <td>...</td>\n",
       "      <td>...</td>\n",
       "      <td>...</td>\n",
       "      <td>...</td>\n",
       "      <td>...</td>\n",
       "    </tr>\n",
       "    <tr>\n",
       "      <th>24627</th>\n",
       "      <td>Ana Marie Cox</td>\n",
       "      <td>False</td>\n",
       "      <td>192194</td>\n",
       "      <td>Salon.com</td>\n",
       "      <td>Projects such as Julien exist not to explore t...</td>\n",
       "      <td>2000-01-01</td>\n",
       "      <td>14574</td>\n",
       "      <td>Julien Donkey-Boy</td>\n",
       "    </tr>\n",
       "    <tr>\n",
       "      <th>24771</th>\n",
       "      <td>Scott Bowles</td>\n",
       "      <td>False</td>\n",
       "      <td>406816</td>\n",
       "      <td>USA Today</td>\n",
       "      <td>Kutcher may soon be ready to anchor a Hollywoo...</td>\n",
       "      <td>2006-09-29</td>\n",
       "      <td>287865154</td>\n",
       "      <td>The Guardian</td>\n",
       "    </tr>\n",
       "    <tr>\n",
       "      <th>25151</th>\n",
       "      <td>Sean Howe</td>\n",
       "      <td>False</td>\n",
       "      <td>963194</td>\n",
       "      <td>Entertainment Weekly</td>\n",
       "      <td>If steampunk bloodbaths aren't for you, it's a...</td>\n",
       "      <td>2008-11-05</td>\n",
       "      <td>770676705</td>\n",
       "      <td>Repo! The Genetic Opera</td>\n",
       "    </tr>\n",
       "    <tr>\n",
       "      <th>25516</th>\n",
       "      <td>Patrick Z. McGavin</td>\n",
       "      <td>True</td>\n",
       "      <td>185125</td>\n",
       "      <td>Hollywood Reporter</td>\n",
       "      <td>A dedication to great women performers.</td>\n",
       "      <td>2001-05-11</td>\n",
       "      <td>13481</td>\n",
       "      <td>Todo sobre mi madre</td>\n",
       "    </tr>\n",
       "    <tr>\n",
       "      <th>25774</th>\n",
       "      <td>Mary Houlihan</td>\n",
       "      <td>True</td>\n",
       "      <td>780516</td>\n",
       "      <td>Chicago Sun-Times</td>\n",
       "      <td>Flawless, directed with a fine eye by Michael ...</td>\n",
       "      <td>2008-03-28</td>\n",
       "      <td>770675806</td>\n",
       "      <td>Flawless</td>\n",
       "    </tr>\n",
       "    <tr>\n",
       "      <th>26037</th>\n",
       "      <td>Joan Anderman</td>\n",
       "      <td>False</td>\n",
       "      <td>205000</td>\n",
       "      <td>Boston Globe</td>\n",
       "      <td>Just saying the name of this movie makes you f...</td>\n",
       "      <td>2000-01-01</td>\n",
       "      <td>13590</td>\n",
       "      <td>Deuce Bigalow: Male Gigolo</td>\n",
       "    </tr>\n",
       "    <tr>\n",
       "      <th>26094</th>\n",
       "      <td>Joe McGovern</td>\n",
       "      <td>False</td>\n",
       "      <td>167423</td>\n",
       "      <td>Village Voice</td>\n",
       "      <td>Inappropriate for audiences of all ages.</td>\n",
       "      <td>2002-05-19</td>\n",
       "      <td>12567</td>\n",
       "      <td>Diamonds</td>\n",
       "    </tr>\n",
       "    <tr>\n",
       "      <th>26126</th>\n",
       "      <td>Fred Camper</td>\n",
       "      <td>False</td>\n",
       "      <td>20668</td>\n",
       "      <td>Chicago Reader</td>\n",
       "      <td>Culturally it may be most noteworthy for its t...</td>\n",
       "      <td>2010-04-05</td>\n",
       "      <td>770674725</td>\n",
       "      <td>The Bat Whispers</td>\n",
       "    </tr>\n",
       "    <tr>\n",
       "      <th>26285</th>\n",
       "      <td>Deborah Young</td>\n",
       "      <td>True</td>\n",
       "      <td>151568</td>\n",
       "      <td>Variety</td>\n",
       "      <td>[A] beautifully crafted and lively romp around...</td>\n",
       "      <td>2008-06-17</td>\n",
       "      <td>13407</td>\n",
       "      <td>Topsy-Turvy</td>\n",
       "    </tr>\n",
       "    <tr>\n",
       "      <th>26315</th>\n",
       "      <td>Gene Moskowitz</td>\n",
       "      <td>True</td>\n",
       "      <td>64276</td>\n",
       "      <td>Variety</td>\n",
       "      <td>None of the forced violence, lawlessness, rapi...</td>\n",
       "      <td>2007-06-26</td>\n",
       "      <td>13124</td>\n",
       "      <td>Easy Rider</td>\n",
       "    </tr>\n",
       "    <tr>\n",
       "      <th>26358</th>\n",
       "      <td>Edward Margulies</td>\n",
       "      <td>False</td>\n",
       "      <td>125664</td>\n",
       "      <td>Mr. Showbiz</td>\n",
       "      <td>I figured that if anyone could make a flick ab...</td>\n",
       "      <td>2000-01-01</td>\n",
       "      <td>13765</td>\n",
       "      <td>Man on the Moon</td>\n",
       "    </tr>\n",
       "    <tr>\n",
       "      <th>26529</th>\n",
       "      <td>King Kaufman</td>\n",
       "      <td>True</td>\n",
       "      <td>208261</td>\n",
       "      <td>Salon.com</td>\n",
       "      <td>Greenberg seems down-to-earth and likable, and...</td>\n",
       "      <td>2001-12-22</td>\n",
       "      <td>11136</td>\n",
       "      <td>The Life and Times of Hank Greenberg</td>\n",
       "    </tr>\n",
       "    <tr>\n",
       "      <th>26548</th>\n",
       "      <td>Bruce McCabe</td>\n",
       "      <td>True</td>\n",
       "      <td>156812</td>\n",
       "      <td>Boston Globe</td>\n",
       "      <td>In its own quiet, poignant, character-driven w...</td>\n",
       "      <td>2000-01-01</td>\n",
       "      <td>10747</td>\n",
       "      <td>My Dog Skip</td>\n",
       "    </tr>\n",
       "    <tr>\n",
       "      <th>26701</th>\n",
       "      <td>Julia Wallace</td>\n",
       "      <td>True</td>\n",
       "      <td>445776</td>\n",
       "      <td>Village Voice</td>\n",
       "      <td>This was basically the best idea ever.</td>\n",
       "      <td>2007-03-28</td>\n",
       "      <td>326433232</td>\n",
       "      <td>U-Carmen e-Khayelitsha</td>\n",
       "    </tr>\n",
       "    <tr>\n",
       "      <th>26702</th>\n",
       "      <td>Russell Edwards</td>\n",
       "      <td>True</td>\n",
       "      <td>445776</td>\n",
       "      <td>Variety</td>\n",
       "      <td>Performances and singing are both on the money...</td>\n",
       "      <td>2006-07-28</td>\n",
       "      <td>326433232</td>\n",
       "      <td>U-Carmen e-Khayelitsha</td>\n",
       "    </tr>\n",
       "    <tr>\n",
       "      <th>26704</th>\n",
       "      <td>Martin Hoyle</td>\n",
       "      <td>True</td>\n",
       "      <td>445776</td>\n",
       "      <td>Time Out</td>\n",
       "      <td>U-Carmen hits the bull's eye, 'Toreador's or not.</td>\n",
       "      <td>2006-05-20</td>\n",
       "      <td>326433232</td>\n",
       "      <td>U-Carmen e-Khayelitsha</td>\n",
       "    </tr>\n",
       "    <tr>\n",
       "      <th>26714</th>\n",
       "      <td>Mark Chalon Smith</td>\n",
       "      <td>True</td>\n",
       "      <td>58625</td>\n",
       "      <td>Los Angeles Times</td>\n",
       "      <td>Teshigahara's direction and Segawa's camera-wo...</td>\n",
       "      <td>2013-03-04</td>\n",
       "      <td>21550</td>\n",
       "      <td>Suna no onna</td>\n",
       "    </tr>\n",
       "    <tr>\n",
       "      <th>26728</th>\n",
       "      <td>Vanessa E. Jones</td>\n",
       "      <td>False</td>\n",
       "      <td>186975</td>\n",
       "      <td>Boston Globe</td>\n",
       "      <td>The acting never gets muscular enough to make ...</td>\n",
       "      <td>2000-01-01</td>\n",
       "      <td>11204</td>\n",
       "      <td>Down to You</td>\n",
       "    </tr>\n",
       "    <tr>\n",
       "      <th>26732</th>\n",
       "      <td>Robert Dominguez</td>\n",
       "      <td>False</td>\n",
       "      <td>186975</td>\n",
       "      <td>New York Daily News</td>\n",
       "      <td>Relies too much on gimmicky flashbacks and the...</td>\n",
       "      <td>2000-01-01</td>\n",
       "      <td>11204</td>\n",
       "      <td>Down to You</td>\n",
       "    </tr>\n",
       "    <tr>\n",
       "      <th>26852</th>\n",
       "      <td>G. Allen Johnson</td>\n",
       "      <td>True</td>\n",
       "      <td>58604</td>\n",
       "      <td>San Francisco Chronicle</td>\n",
       "      <td>It is one of the most visually hypnotic films ...</td>\n",
       "      <td>2005-09-30</td>\n",
       "      <td>19394</td>\n",
       "      <td>Soy Cuba</td>\n",
       "    </tr>\n",
       "    <tr>\n",
       "      <th>27113</th>\n",
       "      <td>Bob Thomas</td>\n",
       "      <td>True</td>\n",
       "      <td>171356</td>\n",
       "      <td>Associated Press</td>\n",
       "      <td>He (Eric Blakeney) shows real promise with cle...</td>\n",
       "      <td>2000-01-01</td>\n",
       "      <td>14473</td>\n",
       "      <td>Gun Shy</td>\n",
       "    </tr>\n",
       "    <tr>\n",
       "      <th>27212</th>\n",
       "      <td>Ted Gideonse</td>\n",
       "      <td>True</td>\n",
       "      <td>220099</td>\n",
       "      <td>Newsweek</td>\n",
       "      <td>The magical world of Pooh is always delightful...</td>\n",
       "      <td>2000-01-01</td>\n",
       "      <td>9475</td>\n",
       "      <td>The Tigger Movie</td>\n",
       "    </tr>\n",
       "    <tr>\n",
       "      <th>27236</th>\n",
       "      <td>Leslie Camhi</td>\n",
       "      <td>True</td>\n",
       "      <td>209189</td>\n",
       "      <td>Village Voice</td>\n",
       "      <td>With Not One Less, Zhang Yimou has fashioned w...</td>\n",
       "      <td>2000-01-01</td>\n",
       "      <td>9687</td>\n",
       "      <td>Yi ge dou bu neng shao</td>\n",
       "    </tr>\n",
       "    <tr>\n",
       "      <th>27342</th>\n",
       "      <td>Matt Weitz</td>\n",
       "      <td>True</td>\n",
       "      <td>330069</td>\n",
       "      <td>Dallas Morning News</td>\n",
       "      <td>This ensemble stand-up movie does have its mom...</td>\n",
       "      <td>2003-03-27</td>\n",
       "      <td>10066</td>\n",
       "      <td>Blue Collar Comedy Tour: The Movie</td>\n",
       "    </tr>\n",
       "    <tr>\n",
       "      <th>27344</th>\n",
       "      <td>Allan Johnson</td>\n",
       "      <td>True</td>\n",
       "      <td>330069</td>\n",
       "      <td>Chicago Tribune</td>\n",
       "      <td>The jokes are witty and universal enough for e...</td>\n",
       "      <td>2003-03-27</td>\n",
       "      <td>10066</td>\n",
       "      <td>Blue Collar Comedy Tour: The Movie</td>\n",
       "    </tr>\n",
       "    <tr>\n",
       "      <th>27345</th>\n",
       "      <td>Rodney Ho</td>\n",
       "      <td>True</td>\n",
       "      <td>330069</td>\n",
       "      <td>Atlanta Journal-Constitution</td>\n",
       "      <td>They couch their humor in a genuinely warm aur...</td>\n",
       "      <td>2003-03-27</td>\n",
       "      <td>10066</td>\n",
       "      <td>Blue Collar Comedy Tour: The Movie</td>\n",
       "    </tr>\n",
       "    <tr>\n",
       "      <th>27446</th>\n",
       "      <td>Dave Larsen</td>\n",
       "      <td>False</td>\n",
       "      <td>199290</td>\n",
       "      <td>Atlanta Journal-Constitution</td>\n",
       "      <td>Unoriginal and insulting, 3 Strikes goes down ...</td>\n",
       "      <td>2000-01-01</td>\n",
       "      <td>14557</td>\n",
       "      <td>3 Strikes</td>\n",
       "    </tr>\n",
       "    <tr>\n",
       "      <th>27489</th>\n",
       "      <td>Chris Garcia</td>\n",
       "      <td>False</td>\n",
       "      <td>156841</td>\n",
       "      <td>Atlanta Journal-Constitution</td>\n",
       "      <td>A dreary little journey that starts as a cutes...</td>\n",
       "      <td>2000-01-01</td>\n",
       "      <td>12765</td>\n",
       "      <td>The Next Best Thing</td>\n",
       "    </tr>\n",
       "    <tr>\n",
       "      <th>27507</th>\n",
       "      <td>Gary Schwan</td>\n",
       "      <td>False</td>\n",
       "      <td>181151</td>\n",
       "      <td>Atlanta Journal-Constitution</td>\n",
       "      <td>The only eruption this movie evokes is a loud ...</td>\n",
       "      <td>2000-01-01</td>\n",
       "      <td>14867</td>\n",
       "      <td>What Planet Are You From?</td>\n",
       "    </tr>\n",
       "    <tr>\n",
       "      <th>27529</th>\n",
       "      <td>Ken Hoffman</td>\n",
       "      <td>False</td>\n",
       "      <td>218043</td>\n",
       "      <td>Houston Chronicle</td>\n",
       "      <td>Beyond the Mat takes all the fun out of the in...</td>\n",
       "      <td>2000-01-01</td>\n",
       "      <td>17875</td>\n",
       "      <td>Beyond the Mat</td>\n",
       "    </tr>\n",
       "  </tbody>\n",
       "</table>\n",
       "<p>623 rows × 8 columns</p>\n",
       "</div>"
      ],
      "text/plain": [
       "                   critic  fresh    imdb                   publication                                              quote review_date       rtid                                 title\n",
       "1             Derek Adams   True  114709                      Time Out  So ingenious in concept, design and execution ...  2009-10-04       9559                             Toy story\n",
       "2         Richard Corliss   True  114709                 TIME Magazine                  The year's most inventive comedy.  2008-08-31       9559                             Toy story\n",
       "3             David Ansen   True  114709                      Newsweek  A winning animated feature that has something ...  2008-08-18       9559                             Toy story\n",
       "4           Leonard Klady   True  114709                       Variety  The film sports a provocative and appealing st...  2008-06-09       9559                             Toy story\n",
       "5      Jonathan Rosenbaum   True  114709                Chicago Reader  An entertaining computer-generated, hyperreali...  2008-03-10       9559                             Toy story\n",
       "6           Michael Booth   True  114709                   Denver Post  As Lion King did before it, Toy Story revived ...  2007-05-03       9559                             Toy story\n",
       "7            Geoff Andrew   True  114709                      Time Out  The film will probably be more fully appreciat...  2006-06-24       9559                             Toy story\n",
       "8            Janet Maslin   True  114709                New York Times  Children will enjoy a new take on the irresist...  2003-05-20       9559                             Toy story\n",
       "9           Kenneth Turan   True  114709             Los Angeles Times  Although its computer-generated imagery is imp...  2001-02-13       9559                             Toy story\n",
       "10       Susan Wloszczyna   True  114709                     USA Today  How perfect that two of the most popular funny...  2000-01-01       9559                             Toy story\n",
       "11            Roger Ebert   True  114709             Chicago Sun-Times  The result is a visionary roller-coaster ride ...  2000-01-01       9559                             Toy story\n",
       "12             John Hartl   True  114709                      Film.com  Disney's witty, wondrously imaginative, all-co...  2000-01-01       9559                             Toy story\n",
       "13            Susan Stark   True  114709                  Detroit News  Disney's first computer-made animated feature ...  2000-01-01       9559                             Toy story\n",
       "14            Peter Stack   True  114709       San Francisco Chronicle  The script, by Lasseter, Pete Docter, Andrew S...  2000-01-01       9559                             Toy story\n",
       "15     James Berardinelli   True  114709                     ReelViews  The one big negative about Toy Story involves ...  2000-01-01       9559                             Toy story\n",
       "16             Sean Means   True  114709                      Film.com         Technically, Toy Story is nearly flawless.  2000-01-01       9559                             Toy story\n",
       "17           Rita Kempley   True  114709               Washington Post  It's a nice change of pace to see the studio d...  2000-01-01       9559                             Toy story\n",
       "18                    NaN   True  114709          Entertainment Weekly  I can hardly imagine having more fun at the mo...  1995-11-22       9559                             Toy story\n",
       "19            Roger Moore   True  114709              Orlando Sentinel  The great voice acting, the visual puns, all a...  1995-11-22       9559                             Toy story\n",
       "36       Richard Schickel   True  107050                 TIME Magazine  Walter Matthau and Jack Lemmon are awfully goo...  2008-08-24      10498                        Grumpy Old Men\n",
       "38            Caryn James   True  107050                New York Times  Just don't expect their bickering to be on the...  2003-05-20      10498                        Grumpy Old Men\n",
       "41         Desson Thomson   True  107050               Washington Post  If you poke through Grumpy's cheap sentimental...  2000-01-01      10498                        Grumpy Old Men\n",
       "47             Liam Lacey  False  114885                Globe and Mail  Never escapes the queasy aura of Melrose Place...  2002-04-12      16697                     Waiting to Exhale\n",
       "49        Edward Guthmann  False  114885       San Francisco Chronicle  You want the movie to stomp and rejoice and cr...  2000-01-01      16697                     Waiting to Exhale\n",
       "51             Joan Walsh  False  114885                     Salon.com  The male-bashing taken to an extreme in Waitin...  2000-01-01      16697                     Waiting to Exhale\n",
       "53            Joe Baltake  False  114885                Sacramento Bee  With one possible exception, none of its women...  2000-01-01      16697                     Waiting to Exhale\n",
       "64             Mike Clark  False  113041                     USA Today  Martin, Keaton and cinematographer William A. ...  2000-01-01      10379           Father of the Bride Part II\n",
       "72          Todd McCarthy   True  113277                       Variety  Heat occupies an exalted position among the co...  2008-10-16      13098                                  Heat\n",
       "73          Peter Travers   True  113277                 Rolling Stone  Robert De Niro's last great role before he dev...  2007-08-14      13098                                  Heat\n",
       "79            Andrew Ross  False  113277                     Salon.com  All the squealing tires, flying bullets and fa...  2000-01-01      13098                                  Heat\n",
       "...                   ...    ...     ...                           ...                                                ...         ...        ...                                   ...\n",
       "24627       Ana Marie Cox  False  192194                     Salon.com  Projects such as Julien exist not to explore t...  2000-01-01      14574                     Julien Donkey-Boy\n",
       "24771        Scott Bowles  False  406816                     USA Today  Kutcher may soon be ready to anchor a Hollywoo...  2006-09-29  287865154                          The Guardian\n",
       "25151           Sean Howe  False  963194          Entertainment Weekly  If steampunk bloodbaths aren't for you, it's a...  2008-11-05  770676705               Repo! The Genetic Opera\n",
       "25516  Patrick Z. McGavin   True  185125            Hollywood Reporter            A dedication to great women performers.  2001-05-11      13481                   Todo sobre mi madre\n",
       "25774       Mary Houlihan   True  780516             Chicago Sun-Times  Flawless, directed with a fine eye by Michael ...  2008-03-28  770675806                              Flawless\n",
       "26037       Joan Anderman  False  205000                  Boston Globe  Just saying the name of this movie makes you f...  2000-01-01      13590            Deuce Bigalow: Male Gigolo\n",
       "26094        Joe McGovern  False  167423                 Village Voice           Inappropriate for audiences of all ages.  2002-05-19      12567                              Diamonds\n",
       "26126         Fred Camper  False   20668                Chicago Reader  Culturally it may be most noteworthy for its t...  2010-04-05  770674725                      The Bat Whispers\n",
       "26285       Deborah Young   True  151568                       Variety  [A] beautifully crafted and lively romp around...  2008-06-17      13407                           Topsy-Turvy\n",
       "26315      Gene Moskowitz   True   64276                       Variety  None of the forced violence, lawlessness, rapi...  2007-06-26      13124                            Easy Rider\n",
       "26358    Edward Margulies  False  125664                   Mr. Showbiz  I figured that if anyone could make a flick ab...  2000-01-01      13765                       Man on the Moon\n",
       "26529        King Kaufman   True  208261                     Salon.com  Greenberg seems down-to-earth and likable, and...  2001-12-22      11136  The Life and Times of Hank Greenberg\n",
       "26548        Bruce McCabe   True  156812                  Boston Globe  In its own quiet, poignant, character-driven w...  2000-01-01      10747                           My Dog Skip\n",
       "26701       Julia Wallace   True  445776                 Village Voice             This was basically the best idea ever.  2007-03-28  326433232                U-Carmen e-Khayelitsha\n",
       "26702     Russell Edwards   True  445776                       Variety  Performances and singing are both on the money...  2006-07-28  326433232                U-Carmen e-Khayelitsha\n",
       "26704        Martin Hoyle   True  445776                      Time Out  U-Carmen hits the bull's eye, 'Toreador's or not.  2006-05-20  326433232                U-Carmen e-Khayelitsha\n",
       "26714   Mark Chalon Smith   True   58625             Los Angeles Times  Teshigahara's direction and Segawa's camera-wo...  2013-03-04      21550                          Suna no onna\n",
       "26728    Vanessa E. Jones  False  186975                  Boston Globe  The acting never gets muscular enough to make ...  2000-01-01      11204                           Down to You\n",
       "26732    Robert Dominguez  False  186975           New York Daily News  Relies too much on gimmicky flashbacks and the...  2000-01-01      11204                           Down to You\n",
       "26852    G. Allen Johnson   True   58604       San Francisco Chronicle  It is one of the most visually hypnotic films ...  2005-09-30      19394                              Soy Cuba\n",
       "27113          Bob Thomas   True  171356              Associated Press  He (Eric Blakeney) shows real promise with cle...  2000-01-01      14473                               Gun Shy\n",
       "27212        Ted Gideonse   True  220099                      Newsweek  The magical world of Pooh is always delightful...  2000-01-01       9475                      The Tigger Movie\n",
       "27236        Leslie Camhi   True  209189                 Village Voice  With Not One Less, Zhang Yimou has fashioned w...  2000-01-01       9687                Yi ge dou bu neng shao\n",
       "27342          Matt Weitz   True  330069           Dallas Morning News  This ensemble stand-up movie does have its mom...  2003-03-27      10066    Blue Collar Comedy Tour: The Movie\n",
       "27344       Allan Johnson   True  330069               Chicago Tribune  The jokes are witty and universal enough for e...  2003-03-27      10066    Blue Collar Comedy Tour: The Movie\n",
       "27345           Rodney Ho   True  330069  Atlanta Journal-Constitution  They couch their humor in a genuinely warm aur...  2003-03-27      10066    Blue Collar Comedy Tour: The Movie\n",
       "27446         Dave Larsen  False  199290  Atlanta Journal-Constitution  Unoriginal and insulting, 3 Strikes goes down ...  2000-01-01      14557                             3 Strikes\n",
       "27489        Chris Garcia  False  156841  Atlanta Journal-Constitution  A dreary little journey that starts as a cutes...  2000-01-01      12765                   The Next Best Thing\n",
       "27507         Gary Schwan  False  181151  Atlanta Journal-Constitution  The only eruption this movie evokes is a loud ...  2000-01-01      14867             What Planet Are You From?\n",
       "27529         Ken Hoffman  False  218043             Houston Chronicle  Beyond the Mat takes all the fun out of the in...  2000-01-01      17875                        Beyond the Mat\n",
       "\n",
       "[623 rows x 8 columns]"
      ]
     },
     "execution_count": 7,
     "metadata": {},
     "output_type": "execute_result"
    }
   ],
   "source": [
    "grp.head(1)"
   ]
  },
  {
   "cell_type": "markdown",
   "metadata": {},
   "source": [
    "<div class=\"span5 alert alert-info\">\n",
    "<h3>Exercise Set I</h3>\n",
    "<br/>\n",
    "<b>Exercise:</b> Look at the histogram above. Tell a story about the average ratings per critic. What shape does the distribution look like? What is interesting about the distribution? What might explain these interesting things?\n",
    "</div>"
   ]
  },
  {
   "cell_type": "markdown",
   "metadata": {},
   "source": [
    "> Most ratngs are above average. \n",
    "The distribution looks to be a normal distribution with a negative skew.  \n",
    "From the data it would seem that critics are more inclined to give films a \"fresh\" rating than a \"rotten\" one, even if that means giving a score=6. But then, if the critic decides that a film is indeed \"rotten\", they don't go in much for borderline scores (of 0.4) but prefer lower scores.\n"
   ]
  },
  {
   "cell_type": "markdown",
   "metadata": {},
   "source": [
    "## The Vector Space Model and a Search Engine"
   ]
  },
  {
   "cell_type": "markdown",
   "metadata": {},
   "source": [
    "All the diagrams here are snipped from [*Introduction to Information Retrieval* by Manning et. al.]( http://nlp.stanford.edu/IR-book/) which is a great resource on text processing. For additional information on text mining and natural language processing, see [*Foundations of Statistical Natural Language Processing* by Manning and Schutze](http://nlp.stanford.edu/fsnlp/).\n",
    "\n",
    "Also check out Python packages [`nltk`](http://www.nltk.org/), [`spaCy`](https://spacy.io/), [`pattern`](http://www.clips.ua.ac.be/pattern), and their associated resources. Also see [`word2vec`](https://en.wikipedia.org/wiki/Word2vec).\n",
    "\n",
    "Let us define the vector derived from document $d$ by $\\bar V(d)$. What does this mean? Each document is treated as a vector containing information about the words contained in it. Each vector has the same length and each entry \"slot\" in the vector contains some kind of data about the words that appear in the document such as presence/absence (1/0), count (an integer) or some other statistic. Each vector has the same length because each document shared the same vocabulary across the full collection of documents -- this collection is called a *corpus*.\n",
    "\n",
    "To define the vocabulary, we take a union of all words we have seen in all documents. We then just associate an array index with them. So \"hello\" may be at index 5 and \"world\" at index 99.\n",
    "\n",
    "Suppose we have the following corpus:\n",
    "\n",
    "`A Fox one day spied a beautiful bunch of ripe grapes hanging from a vine trained along the branches of a tree. The grapes seemed ready to burst with juice, and the Fox's mouth watered as he gazed longingly at them.`\n",
    "\n",
    "Suppose we treat each sentence as a document $d$. The vocabulary (often called the *lexicon*) is the following:\n",
    "\n",
    "$V = \\left\\{\\right.$ `a, along, and, as, at, beautiful, branches, bunch, burst, day, fox, fox's, from, gazed, grapes, hanging, he, juice, longingly, mouth, of, one, ready, ripe, seemed, spied, the, them, to, trained, tree, vine, watered, with`$\\left.\\right\\}$\n",
    "\n",
    "Then the document\n",
    "\n",
    "`A Fox one day spied a beautiful bunch of ripe grapes hanging from a vine trained along the branches of a tree`\n",
    "\n",
    "may be represented as the following sparse vector of word counts:\n",
    "\n",
    "$$\\bar V(d) = \\left( 4,1,0,0,0,1,1,1,0,1,1,0,1,0,1,1,0,0,0,0,2,1,0,1,0,0,1,0,0,1,1,1,0,0 \\right)$$\n",
    "\n",
    "or more succinctly as\n",
    "\n",
    "`[(0, 4), (1, 1), (5, 1), (6, 1), (7, 1), (9, 1), (10, 1), (12, 1), (14, 1), (15, 1), (20, 2), (21, 1), (23, 1),`\n",
    "`(26, 1), (29,1), (30, 1), (31, 1)]`\n",
    "\n",
    "along with a dictionary\n",
    "\n",
    "``\n",
    "{\n",
    "    0: a, 1: along, 5: beautiful, 6: branches, 7: bunch, 9: day, 10: fox, 12: from, 14: grapes, 15: hanging, 19: mouth, 20: of, 21: one, 23: ripe, 24: seemed, 25: spied, 26: the, 29:trained, 30: tree, 31: vine, \n",
    "}\n",
    "``\n",
    "\n",
    "Then, a set of documents becomes, in the usual `sklearn` style, a sparse matrix with rows being sparse arrays representing documents and columns representing the features/words in the vocabulary.\n",
    "\n",
    "Notice that this representation loses the relative ordering of the terms in the document. That is \"cat ate rat\" and \"rat ate cat\" are the same. Thus, this representation is also known as the Bag-Of-Words representation.\n",
    "\n",
    "Here is another example, from the book quoted above, although the matrix is transposed here so that documents are columns:\n",
    "\n",
    "![novel terms](terms.png)\n",
    "\n",
    "Such a matrix is also catted a Term-Document Matrix. Here, the terms being indexed could be stemmed before indexing; for instance, `jealous` and `jealousy` after stemming are the same feature. One could also make use of other \"Natural Language Processing\" transformations in constructing the vocabulary. We could use Lemmatization, which reduces words to lemmas: work, working, worked would all reduce to work. We could remove \"stopwords\" from our vocabulary, such as common words like \"the\". We could look for particular parts of speech, such as adjectives. This is often done in Sentiment Analysis. And so on. It all depends on our application.\n",
    "\n",
    "From the book:\n",
    "The standard way of quantifying the similarity between two documents $d_1$ and $d_2$  is to compute the cosine similarity of their vector representations $\\bar V(d_1)$ and $\\bar V(d_2)$:\n",
    "\n",
    "$$S_{12} = \\frac{\\bar V(d_1) \\cdot \\bar V(d_2)}{|\\bar V(d_1)| \\times |\\bar V(d_2)|}$$\n",
    "\n",
    "![Vector Space Model](vsm.png)\n",
    "\n",
    "\n",
    "There is a far more compelling reason to represent documents as vectors: we can also view a query as a vector. Consider the query q = jealous gossip. This query turns into the unit vector $\\bar V(q)$ = (0, 0.707, 0.707) on the three coordinates below. \n",
    "\n",
    "![novel terms](terms2.png)\n",
    "\n",
    "The key idea now: to assign to each document d a score equal to the dot product:\n",
    "\n",
    "$$\\bar V(q) \\cdot \\bar V(d)$$\n",
    "\n",
    "Then we can use this simple Vector Model as a Search engine."
   ]
  },
  {
   "cell_type": "markdown",
   "metadata": {},
   "source": [
    "### In Code"
   ]
  },
  {
   "cell_type": "code",
   "execution_count": 8,
   "metadata": {},
   "outputs": [
    {
     "name": "stdout",
     "output_type": "stream",
     "text": [
      "Original text is\n",
      "Hop on pop\n",
      "Hop off pop\n",
      "Hop Hop hop\n",
      "\n",
      "Transformed text vector is \n",
      "[[1 0 1 1]\n",
      " [1 1 0 1]\n",
      " [3 0 0 0]]\n",
      "\n",
      "Words for each feature:\n",
      "['hop', 'off', 'on', 'pop']\n"
     ]
    }
   ],
   "source": [
    "from sklearn.feature_extraction.text import CountVectorizer\n",
    "\n",
    "text = ['Hop on pop', 'Hop off pop', 'Hop Hop hop']\n",
    "print(\"Original text is\\n{}\".format('\\n'.join(text)))\n",
    "\n",
    "vectorizer = CountVectorizer(min_df=0)\n",
    "\n",
    "# call `fit` to build the vocabulary\n",
    "vectorizer.fit(text)\n",
    "\n",
    "# call `transform` to convert text to a bag of words\n",
    "x = vectorizer.transform(text)\n",
    "\n",
    "# CountVectorizer uses a sparse array to save memory, but it's easier in this assignment to \n",
    "# convert back to a \"normal\" numpy array\n",
    "x = x.toarray()\n",
    "\n",
    "print(\"\")\n",
    "print(\"Transformed text vector is \\n{}\".format(x))\n",
    "\n",
    "# `get_feature_names` tracks which word is associated with each column of the transformed x\n",
    "print(\"\")\n",
    "print(\"Words for each feature:\")\n",
    "print(vectorizer.get_feature_names())\n",
    "\n",
    "# Notice that the bag of words treatment doesn't preserve information about the *order* of words, \n",
    "# just their frequency"
   ]
  },
  {
   "cell_type": "code",
   "execution_count": 9,
   "metadata": {
    "collapsed": true
   },
   "outputs": [],
   "source": [
    "def make_xy(critics, vectorizer=None):\n",
    "    #Your code here    \n",
    "    if vectorizer is None:\n",
    "        vectorizer = CountVectorizer()\n",
    "    X = vectorizer.fit_transform(critics.quote)\n",
    "    X = X.tocsc()  # some versions of sklearn return COO format\n",
    "    y = (critics.fresh == 'fresh').values.astype(np.int)\n",
    "    return X, y\n",
    "X, y = make_xy(critics)"
   ]
  },
  {
   "cell_type": "markdown",
   "metadata": {},
   "source": [
    "## Naive Bayes"
   ]
  },
  {
   "cell_type": "markdown",
   "metadata": {},
   "source": [
    "From Bayes' Theorem, we have that\n",
    "\n",
    "$$P(c \\vert f) = \\frac{P(c \\cap f)}{P(f)}$$\n",
    "\n",
    "where $c$ represents a *class* or category, and $f$ represents a feature vector, such as $\\bar V(d)$ as above. **We are computing the probability that a document (or whatever we are classifying) belongs to category *c* given the features in the document.** $P(f)$ is really just a normalization constant, so the literature usually writes Bayes' Theorem in context of Naive Bayes as\n",
    "\n",
    "$$P(c \\vert f) \\propto P(f \\vert c) P(c) $$\n",
    "\n",
    "$P(c)$ is called the *prior* and is simply the probability of seeing class $c$. But what is $P(f \\vert c)$? This is the probability that we see feature set $f$ given that this document is actually in class $c$. This is called the *likelihood* and comes from the data. One of the major assumptions of the Naive Bayes model is that the features are *conditionally independent* given the class. While the presence of a particular discriminative word may uniquely identify the document as being part of class $c$ and thus violate general feature independence, conditional independence means that the presence of that term is independent of all the other words that appear *within that class*. This is a very important distinction. Recall that if two events are independent, then:\n",
    "\n",
    "$$P(A \\cap B) = P(A) \\cdot P(B)$$\n",
    "\n",
    "Thus, conditional independence implies\n",
    "\n",
    "$$P(f \\vert c)  = \\prod_i P(f_i | c) $$\n",
    "\n",
    "where $f_i$ is an individual feature (a word in this example).\n",
    "\n",
    "To make a classification, we then choose the class $c$ such that $P(c \\vert f)$ is maximal.\n",
    "\n",
    "There is a small caveat when computing these probabilities. For [floating point underflow](http://nlp.stanford.edu/IR-book/html/htmledition/naive-bayes-text-classification-1.html) we change the product into a sum by going into log space. This is called the LogSumExp trick. So:\n",
    "\n",
    "$$\\log P(f \\vert c)  = \\sum_i \\log P(f_i \\vert c) $$\n",
    "\n",
    "There is another caveat. What if we see a term that didn't exist in the training data? This means that $P(f_i \\vert c) = 0$ for that term, and thus $P(f \\vert c)  = \\prod_i P(f_i | c) = 0$, which doesn't help us at all. Instead of using zeros, we add a small negligible value called $\\alpha$ to each count. This is called Laplace Smoothing.\n",
    "\n",
    "$$P(f_i \\vert c) = \\frac{N_{ic}+\\alpha}{N_c + \\alpha N_i}$$\n",
    "\n",
    "where $N_{ic}$ is the number of times feature $i$ was seen in class $c$, $N_c$ is the number of times class $c$ was seen and $N_i$ is the number of times feature $i$ was seen globally. $\\alpha$ is sometimes called a regularization parameter."
   ]
  },
  {
   "cell_type": "markdown",
   "metadata": {},
   "source": [
    "### Multinomial Naive Bayes and Other Likelihood Functions\n",
    "\n",
    "Since we are modeling word counts, we are using variation of Naive Bayes called Multinomial Naive Bayes. This is because the likelihood function actually takes the form of the multinomial distribution.\n",
    "\n",
    "$$P(f \\vert c) = \\frac{\\left( \\sum_i f_i \\right)!}{\\prod_i f_i!} \\prod_{f_i} P(f_i \\vert c)^{f_i} \\propto \\prod_{i} P(f_i \\vert c)$$\n",
    "\n",
    "where the nasty term out front is absorbed as a normalization constant such that probabilities sum to 1.\n",
    "\n",
    "There are many other variations of Naive Bayes, all which depend on what type of value $f_i$ takes. If $f_i$ is continuous, we may be able to use *Gaussian Naive Bayes*. First compute the mean and variance for each class $c$. Then the likelihood, $P(f \\vert c)$ is given as follows\n",
    "\n",
    "$$P(f_i = v \\vert c) = \\frac{1}{\\sqrt{2\\pi \\sigma^2_c}} e^{- \\frac{\\left( v - \\mu_c \\right)^2}{2 \\sigma^2_c}}$$"
   ]
  },
  {
   "cell_type": "code",
   "execution_count": null,
   "metadata": {
    "collapsed": true
   },
   "outputs": [],
   "source": []
  },
  {
   "cell_type": "markdown",
   "metadata": {},
   "source": [
    "<div class=\"span5 alert alert-info\">\n",
    "<h3>Exercise Set II</h3>\n",
    "\n",
    "<p><b>Exercise:</b> Implement a simple Naive Bayes classifier:</p>\n",
    "\n",
    "<ol>\n",
    "<li> split the data set into a training and test set\n",
    "<li> Use `scikit-learn`'s `MultinomialNB()` classifier with default parameters.\n",
    "<li> train the classifier over the training set and test on the test set\n",
    "<li> print the accuracy scores for both the training and the test sets\n",
    "</ol>\n",
    "\n",
    "What do you notice? Is this a good classifier? If not, why not?\n",
    "</div>"
   ]
  },
  {
   "cell_type": "markdown",
   "metadata": {},
   "source": [
    "> Splitting the data set into a training and a test set"
   ]
  },
  {
   "cell_type": "code",
   "execution_count": 10,
   "metadata": {
    "collapsed": true
   },
   "outputs": [],
   "source": [
    "from sklearn.model_selection import train_test_split\n",
    "\n",
    "X_train, X_test, y_train, y_test = train_test_split(X, y, test_size=.4, random_state=123) # random state for reproducability\n",
    "# test_size=0.4 represent the proportion of the dataset to include in the test split"
   ]
  },
  {
   "cell_type": "markdown",
   "metadata": {},
   "source": [
    "> Using `scikit-learn`'s `MultinomialNB()` classifier with default parameters."
   ]
  },
  {
   "cell_type": "code",
   "execution_count": 11,
   "metadata": {
    "collapsed": true
   },
   "outputs": [],
   "source": [
    "from  sklearn.naive_bayes  import MultinomialNB\n",
    "\n",
    "clf = MultinomialNB()"
   ]
  },
  {
   "cell_type": "markdown",
   "metadata": {},
   "source": [
    "> Train the classifier over the training set and test on the test set"
   ]
  },
  {
   "cell_type": "code",
   "execution_count": 12,
   "metadata": {},
   "outputs": [
    {
     "data": {
      "text/plain": [
       "array([0, 0, 1, ..., 1, 1, 0])"
      ]
     },
     "execution_count": 12,
     "metadata": {},
     "output_type": "execute_result"
    }
   ],
   "source": [
    "clf.fit(X_train, y_train)\n",
    "clf.predict(X_test)"
   ]
  },
  {
   "cell_type": "markdown",
   "metadata": {},
   "source": [
    "> print the accuracy scores for both the training and the test sets"
   ]
  },
  {
   "cell_type": "code",
   "execution_count": 13,
   "metadata": {},
   "outputs": [
    {
     "name": "stdout",
     "output_type": "stream",
     "text": [
      "Training Set Accuracy: 92.56%\n",
      "Test Set Accuracy: 76.61%\n"
     ]
    }
   ],
   "source": [
    "print(\"Training Set Accuracy: %0.2f%%\" % (100 * clf.score(X_train, y_train)))\n",
    "print(\"Test Set Accuracy: %0.2f%%\" % (100 * clf.score(X_test, y_test)))"
   ]
  },
  {
   "cell_type": "code",
   "execution_count": 14,
   "metadata": {},
   "outputs": [
    {
     "name": "stdout",
     "output_type": "stream",
     "text": [
      "Accuracy on training data: 0.93\n",
      "Accuracy on test data:     0.77\n",
      "\n",
      "Mean prediction accuracy is:  0.766104417671\n",
      "\n",
      "\n",
      "Classification report:\n",
      "              precision    recall  f1-score   support\n",
      "\n",
      "          0       0.74      0.61      0.67      2400\n",
      "          1       0.78      0.86      0.82      3825\n",
      "\n",
      "avg / total       0.76      0.77      0.76      6225\n",
      "\n",
      "\n",
      "\n",
      "Confusion matrix:\n",
      " [[1465  935]\n",
      " [ 521 3304]]\n"
     ]
    }
   ],
   "source": [
    "from sklearn import metrics\n",
    "\n",
    "training_accuracy = clf.score(X_train, y_train)\n",
    "test_accuracy = clf.score(X_test, y_test)\n",
    "\n",
    "print(\"Accuracy on training data: %0.2f\" % (training_accuracy))\n",
    "print(\"Accuracy on test data:     %0.2f\" % (test_accuracy))\n",
    "\n",
    "predicted = clf.predict(X_test)\n",
    "print(\"\\nMean prediction accuracy is: \", np.mean(predicted == y_test))\n",
    "print(\"\\n\\nClassification report:\\n\", metrics.classification_report(y_test, predicted))\n",
    "print(\"\\n\\nConfusion matrix:\\n\", metrics.confusion_matrix(y_test, predicted))"
   ]
  },
  {
   "cell_type": "markdown",
   "metadata": {},
   "source": [
    "> Precision – Accuracy of positive predictions: we're only getting 75% accuracy, which is better than chance (50%) but still not a good skore.\n",
    "Recall (aka sensitivity or true positive rate): Fraction of positives that were correctly identified.\n",
    "F1 Score – A helpful metric for comparing two classifiers. F1 Score takes into account precision and the recall. It is created by finding the the harmonic mean of precision and recall.F1 = 2 x (precision x recall)/(precision + recall)\n",
    "<br><br>\n",
    "Confusion matrix: `1442 True Positives`,\t`479 False Positives`, `1018 False Negatives`, `3286 True Negatives`\n",
    "So there were 2460 points in the first class (label 0). Out of these, the model was successful in identifying 1442 of those correctly in label 0, but 1018 were marked as label 1."
   ]
  },
  {
   "cell_type": "markdown",
   "metadata": {},
   "source": [
    "### Picking Hyperparameters for Naive Bayes and Text Maintenance"
   ]
  },
  {
   "cell_type": "markdown",
   "metadata": {},
   "source": [
    "We need to know what value to use for $\\alpha$, and we also need to know which words to include in the vocabulary. As mentioned earlier, some words are obvious stopwords. Other words appear so infrequently that they serve as noise, and other words in addition to stopwords appear so frequently that they may also serve as noise."
   ]
  },
  {
   "cell_type": "markdown",
   "metadata": {},
   "source": [
    "First, let's find an appropriate value for `min_df` for the `CountVectorizer`. `min_df` can be either an integer or a float/decimal. If it is an integer, `min_df` represents the minimum number of documents a word must appear in for it to be included in the vocabulary. If it is a float, it represents the minimum *percentage* of documents a word must appear in to be included in the vocabulary. From the documentation:"
   ]
  },
  {
   "cell_type": "markdown",
   "metadata": {},
   "source": [
    "min_df: When building the vocabulary ignore terms that have a document frequency strictly lower than the given threshold. This value is also called cut-off in the literature. If float, the parameter represents a proportion of documents, integer absolute counts. This parameter is ignored if vocabulary is not None."
   ]
  },
  {
   "cell_type": "markdown",
   "metadata": {},
   "source": [
    "<div class=\"span5 alert alert-info\">\n",
    "<h3>Exercise Set III</h3>\n",
    "\n",
    "<p><b>Exercise:</b> Construct the cumulative distribution of document frequencies (df). The $x$-axis is a document count $x_i$ and the $y$-axis is the percentage of words that appear less than $x_i$ times. For example, at $x=5$, plot a point representing the percentage or number of words that appear in 5 or fewer documents.</p>\n",
    "\n",
    "<p><b>Exercise:</b> Look for the point at which the curve begins climbing steeply. This may be a good value for `min_df`. If we were interested in also picking `max_df`, we would likely pick the value where the curve starts to plateau. What value did you choose?</p>\n",
    "</div>"
   ]
  },
  {
   "cell_type": "markdown",
   "metadata": {},
   "source": [
    "#### Result I"
   ]
  },
  {
   "cell_type": "code",
   "execution_count": 15,
   "metadata": {},
   "outputs": [
    {
     "data": {
      "image/png": "[encoded data removed]",
      "text/plain": [
       "<matplotlib.figure.Figure at 0x7fde7c4609e8>"
      ]
     },
     "metadata": {},
     "output_type": "display_data"
    }
   ],
   "source": [
    "df_tmp = pd.DataFrame(data= X.sum(axis=0).transpose(), columns=['x']).x.value_counts()\n",
    "\n",
    "rcParams['figure.figsize'] = 15, 7\n",
    "sns.distplot(df_tmp, hist_kws=dict(cumulative=True), kde_kws=dict(cumulative=True))\n",
    "plt.xlim(-1,max(df_tmp))\n",
    "plt.xlabel('... in X or fewer Documets')\n",
    "plt.ylabel('% of words that apprear ...')\n",
    "plt.title('\\nCumulative Distribution of the Document Frequencies\\n')\n",
    "plt.show();"
   ]
  },
  {
   "cell_type": "markdown",
   "metadata": {},
   "source": [
    "#### Result II"
   ]
  },
  {
   "cell_type": "code",
   "execution_count": 16,
   "metadata": {},
   "outputs": [
    {
     "data": {
      "text/html": [
       "<div>\n",
       "<style scoped>\n",
       "    .dataframe tbody tr th:only-of-type {\n",
       "        vertical-align: middle;\n",
       "    }\n",
       "\n",
       "    .dataframe tbody tr th {\n",
       "        vertical-align: top;\n",
       "    }\n",
       "\n",
       "    .dataframe thead th {\n",
       "        text-align: right;\n",
       "    }\n",
       "</style>\n",
       "<table border=\"1\" class=\"dataframe\">\n",
       "  <thead>\n",
       "    <tr style=\"text-align: right;\">\n",
       "      <th></th>\n",
       "      <th>1</th>\n",
       "      <th>2</th>\n",
       "      <th>3</th>\n",
       "      <th>4</th>\n",
       "      <th>5</th>\n",
       "      <th>6</th>\n",
       "      <th>7</th>\n",
       "      <th>8</th>\n",
       "      <th>9</th>\n",
       "      <th>10</th>\n",
       "      <th>11</th>\n",
       "      <th>12</th>\n",
       "      <th>13</th>\n",
       "      <th>14</th>\n",
       "      <th>15</th>\n",
       "      <th>17</th>\n",
       "      <th>16</th>\n",
       "      <th>19</th>\n",
       "      <th>18</th>\n",
       "      <th>21</th>\n",
       "    </tr>\n",
       "  </thead>\n",
       "  <tbody>\n",
       "    <tr>\n",
       "      <th>%_Words</th>\n",
       "      <td>42.61</td>\n",
       "      <td>15.55</td>\n",
       "      <td>8.55</td>\n",
       "      <td>5.62</td>\n",
       "      <td>4.0</td>\n",
       "      <td>2.83</td>\n",
       "      <td>2.37</td>\n",
       "      <td>1.85</td>\n",
       "      <td>1.58</td>\n",
       "      <td>1.31</td>\n",
       "      <td>1.05</td>\n",
       "      <td>0.95</td>\n",
       "      <td>0.83</td>\n",
       "      <td>0.79</td>\n",
       "      <td>0.6</td>\n",
       "      <td>0.47</td>\n",
       "      <td>0.46</td>\n",
       "      <td>0.42</td>\n",
       "      <td>0.4</td>\n",
       "      <td>0.37</td>\n",
       "    </tr>\n",
       "    <tr>\n",
       "      <th>Words</th>\n",
       "      <td>9552.00</td>\n",
       "      <td>3486.00</td>\n",
       "      <td>1916.00</td>\n",
       "      <td>1259.00</td>\n",
       "      <td>896.0</td>\n",
       "      <td>634.00</td>\n",
       "      <td>532.00</td>\n",
       "      <td>415.00</td>\n",
       "      <td>354.00</td>\n",
       "      <td>294.00</td>\n",
       "      <td>235.00</td>\n",
       "      <td>212.00</td>\n",
       "      <td>185.00</td>\n",
       "      <td>176.00</td>\n",
       "      <td>135.0</td>\n",
       "      <td>106.00</td>\n",
       "      <td>104.00</td>\n",
       "      <td>95.00</td>\n",
       "      <td>90.0</td>\n",
       "      <td>83.00</td>\n",
       "    </tr>\n",
       "  </tbody>\n",
       "</table>\n",
       "</div>"
      ],
      "text/plain": [
       "              1        2        3        4      5       6       7       8       9       10      11      12      13      14     15      17      16     19    18     21\n",
       "%_Words    42.61    15.55     8.55     5.62    4.0    2.83    2.37    1.85    1.58    1.31    1.05    0.95    0.83    0.79    0.6    0.47    0.46   0.42   0.4   0.37\n",
       "Words    9552.00  3486.00  1916.00  1259.00  896.0  634.00  532.00  415.00  354.00  294.00  235.00  212.00  185.00  176.00  135.0  106.00  104.00  95.00  90.0  83.00"
      ]
     },
     "execution_count": 16,
     "metadata": {},
     "output_type": "execute_result"
    }
   ],
   "source": [
    "pd.DataFrame({'Words  ':df_tmp.head(20), '%_Words':(round((df_tmp / sum(df_tmp)) * 100, 2)).head(20)}).T\n"
   ]
  },
  {
   "cell_type": "markdown",
   "metadata": {},
   "source": [
    "> `min_df` will be set at <b>1</b> since <b>9 552</b> words are only found in 1 document, which represents 42.6% of the total word population <br>\n",
    "`max_df` would set around <b>10</b> since from there the % of words that are added into each \"step\" is less than 1%   i.e. for the next documents we only get less then 1% more words"
   ]
  },
  {
   "cell_type": "code",
   "execution_count": 17,
   "metadata": {
    "collapsed": true
   },
   "outputs": [],
   "source": [
    "from scipy.sparse import csr_matrix"
   ]
  },
  {
   "cell_type": "markdown",
   "metadata": {},
   "source": [
    "The parameter $\\alpha$ is chosen to be a small value that simply avoids having zeros in the probability computations. This value can sometimes be chosen arbitrarily with domain expertise, but we will use K-fold cross validation. In K-fold cross-validation, we divide the data into $K$ non-overlapping parts. We train on $K-1$ of the folds and test on the remaining fold. We then iterate, so that each fold serves as the test fold exactly once. The function `cv_score` performs the K-fold cross-validation algorithm for us, but we need to pass a function that measures the performance of the algorithm on each fold. "
   ]
  },
  {
   "cell_type": "code",
   "execution_count": 18,
   "metadata": {
    "collapsed": true
   },
   "outputs": [],
   "source": [
    "from sklearn.model_selection import KFold\n",
    "def cv_score(clf, X, y, scorefunc):\n",
    "    result = 0.\n",
    "    nfold = 5\n",
    "    for train, test in KFold(nfold).split(X): # split data into train/test groups, 5 times\n",
    "        clf.fit(X[train], y[train]) # fit the classifier, passed is as clf.\n",
    "        result += scorefunc(clf, X[test], y[test]) # evaluate score function on held-out data\n",
    "    return result / nfold # average"
   ]
  },
  {
   "cell_type": "markdown",
   "metadata": {},
   "source": [
    "We use the log-likelihood as the score here in `scorefunc`. The higher the log-likelihood, the better. Indeed, what we do in `cv_score` above is to implement the cross-validation part of `GridSearchCV`.\n",
    "\n",
    "The custom scoring function `scorefunc` allows us to use different metrics depending on the decision risk we care about (precision, accuracy, profit etc.) directly on the validation set. You will often find people using `roc_auc`, precision, recall, or `F1-score` as the scoring function."
   ]
  },
  {
   "cell_type": "code",
   "execution_count": 19,
   "metadata": {
    "collapsed": true
   },
   "outputs": [],
   "source": [
    "def log_likelihood(clf, x, y):\n",
    "    prob = clf.predict_log_proba(x)\n",
    "    rotten = y == 0\n",
    "    fresh = ~rotten\n",
    "    return prob[rotten, 0].sum() + prob[fresh, 1].sum()"
   ]
  },
  {
   "cell_type": "markdown",
   "metadata": {},
   "source": [
    "We'll cross-validate over the regularization parameter $\\alpha$."
   ]
  },
  {
   "cell_type": "markdown",
   "metadata": {},
   "source": [
    "Let's set up the train and test masks first, and then we can run the cross-validation procedure."
   ]
  },
  {
   "cell_type": "code",
   "execution_count": 20,
   "metadata": {
    "collapsed": true
   },
   "outputs": [],
   "source": [
    "%%capture\n",
    "from sklearn.model_selection import train_test_split\n",
    "_, itest = train_test_split(range(critics.shape[0]), train_size=0.7)\n",
    "mask = np.zeros(critics.shape[0], dtype=np.bool)\n",
    "mask[itest] = True"
   ]
  },
  {
   "cell_type": "markdown",
   "metadata": {},
   "source": [
    "<div class=\"span5 alert alert-info\">\n",
    "<h3>Exercise Set IV</h3>\n",
    "\n",
    "<p><b>Exercise:</b> What does using the function `log_likelihood` as the score mean? What are we trying to optimize for?</p>\n",
    "\n",
    "<p><b>Exercise:</b> Without writing any code, what do you think would happen if you choose a value of $\\alpha$ that is too high?</p>\n",
    "\n",
    "<p><b>Exercise:</b> Using the skeleton code below, find the best values of the parameter `alpha`, and use the value of `min_df` you chose in the previous exercise set. Use the `cv_score` function above with the `log_likelihood` function for scoring.</p>\n",
    "</div>"
   ]
  },
  {
   "cell_type": "markdown",
   "metadata": {},
   "source": [
    "#### Result 1"
   ]
  },
  {
   "cell_type": "markdown",
   "metadata": {},
   "source": [
    "> The `log_likelihood` measures the probability of observing the data given the parameters. We are trying to optimize for the maximum likelihood value, which can be found by finding the rate of change at particular points. <br>In statistics, the score indicates how sensitive a likelihood function is to its parameter $Θ$ This score is the gradient of the log-likelihood with respect to $Θ$."
   ]
  },
  {
   "cell_type": "markdown",
   "metadata": {},
   "source": [
    "#### Result 2"
   ]
  },
  {
   "cell_type": "markdown",
   "metadata": {},
   "source": [
    "> $\\alpha$ is a smoothing parameter, and a larger $\\alpha$ will reduce the variance of the model but increase bias at the same time i.e. it will reduce the models ability to distinguish between different classes."
   ]
  },
  {
   "cell_type": "markdown",
   "metadata": {},
   "source": [
    "#### Result 3"
   ]
  },
  {
   "cell_type": "code",
   "execution_count": 21,
   "metadata": {
    "collapsed": true
   },
   "outputs": [],
   "source": [
    "from sklearn.naive_bayes import MultinomialNB\n",
    "\n",
    "#the grid of parameters to search over\n",
    "alphas = [.1, .2, .3, .4, .45, .5, .55, .6, .65, .7,.75, 1, 1.25, 1.5, 2, 3, 4, 5, 10, 50]\n",
    "min_df = range(1, 11) # YOUR TURN: put your value of min_df here.\n",
    "\n",
    "#Find the best value for alpha and min_df, and the best classifier\n",
    "best_alpha = None\n",
    "maxscore=-np.inf\n",
    "for mindf in min_df:\n",
    "    for alpha in alphas:        \n",
    "        vectorizer = CountVectorizer(min_df=mindf)       \n",
    "        Xthis, ythis = make_xy(critics, vectorizer)\n",
    "        Xtrainthis = Xthis[mask]\n",
    "        ytrainthis = ythis[mask]\n",
    "\n",
    "        # your turn\n",
    "        clf = MultinomialNB(alpha=alpha)\n",
    "        score = cv_score(clf, Xtrainthis, ytrainthis, log_likelihood)\n",
    "        if score > maxscore:\n",
    "            maxscore = score\n",
    "            best_alpha = alpha\n",
    "            best_min_df = mindf"
   ]
  },
  {
   "cell_type": "code",
   "execution_count": 22,
   "metadata": {},
   "outputs": [
    {
     "name": "stdout",
     "output_type": "stream",
     "text": [
      "alpha: 3\n",
      "best_min_df: 10\n"
     ]
    }
   ],
   "source": [
    "print(\"alpha: {}\".format(best_alpha))\n",
    "print(\"best_min_df: {}\".format(best_min_df))"
   ]
  },
  {
   "cell_type": "markdown",
   "metadata": {},
   "source": [
    "<div class=\"span5 alert alert-info\">\n",
    "<h3>Exercise Set V: Working with the Best Parameters</h3>\n",
    "\n",
    "<p><b>Exercise:</b> Using the best value of  `alpha` you just found, calculate the accuracy on the training and test sets. Is this classifier better? Why (not)?</p>\n",
    "\n",
    "</div>"
   ]
  },
  {
   "cell_type": "code",
   "execution_count": 23,
   "metadata": {},
   "outputs": [
    {
     "name": "stdout",
     "output_type": "stream",
     "text": [
      "Accuracy on training data: 0.848362\n",
      "Accuracy on test data:     0.729802\n"
     ]
    }
   ],
   "source": [
    "vectorizer = CountVectorizer(min_df=best_min_df)\n",
    "X, y = make_xy(critics, vectorizer)\n",
    "xtrain=X[mask]\n",
    "ytrain=y[mask]\n",
    "xtest=X[~mask]\n",
    "ytest=y[~mask]\n",
    "\n",
    "clf = MultinomialNB(alpha=best_alpha).fit(xtrain, ytrain)\n",
    "\n",
    "#your turn. Print the accuracy on the test and training dataset\n",
    "training_accuracy = clf.score(xtrain, ytrain)\n",
    "test_accuracy = clf.score(xtest, ytest)\n",
    "\n",
    "print(\"Accuracy on training data: {:2f}\".format(training_accuracy))\n",
    "print(\"Accuracy on test data:     {:2f}\".format(test_accuracy))"
   ]
  },
  {
   "cell_type": "code",
   "execution_count": 24,
   "metadata": {},
   "outputs": [
    {
     "name": "stdout",
     "output_type": "stream",
     "text": [
      "[[2373 1872]\n",
      " [1071 5576]]\n"
     ]
    }
   ],
   "source": [
    "from sklearn.metrics import confusion_matrix\n",
    "print(confusion_matrix(ytest, clf.predict(xtest)))"
   ]
  },
  {
   "cell_type": "markdown",
   "metadata": {},
   "source": [
    "> The huge overfitting issue that we had previously seems to be solved partialy but nevertheless the prodictability of of the algorith did not improve"
   ]
  },
  {
   "cell_type": "markdown",
   "metadata": {},
   "source": [
    "## Interpretation"
   ]
  },
  {
   "cell_type": "markdown",
   "metadata": {},
   "source": [
    "### What are the strongly predictive features?\n",
    "\n",
    "We use a neat trick to identify strongly predictive features (i.e. words). \n",
    "\n",
    "* first, create a data set such that each row has exactly one feature. This is represented by the identity matrix.\n",
    "* use the trained classifier to make predictions on this matrix\n",
    "* sort the rows by predicted probabilities, and pick the top and bottom $K$ rows"
   ]
  },
  {
   "cell_type": "code",
   "execution_count": 25,
   "metadata": {},
   "outputs": [
    {
     "name": "stdout",
     "output_type": "stream",
     "text": [
      "Good words\t     P(fresh | word)\n",
      "            exciting 0.91\n",
      "               holds 0.89\n",
      "        entertaining 0.89\n",
      "             delight 0.88\n",
      "               charm 0.88\n",
      "         masterpiece 0.87\n",
      "            touching 0.87\n",
      "           wonderful 0.86\n",
      "            powerful 0.86\n",
      "              modern 0.86\n",
      "Bad words\t     P(fresh | word)\n",
      "         forgettable 0.21\n",
      "             unfunny 0.21\n",
      "                save 0.21\n",
      "               bland 0.20\n",
      "          uninspired 0.20\n",
      "               empty 0.20\n",
      "             problem 0.19\n",
      "           pointless 0.19\n",
      "                lame 0.17\n",
      "       unfortunately 0.15\n"
     ]
    }
   ],
   "source": [
    "words = np.array(vectorizer.get_feature_names())\n",
    "\n",
    "x = np.eye(xtest.shape[1])\n",
    "probs = clf.predict_log_proba(x)[:, 0]\n",
    "ind = np.argsort(probs)\n",
    "\n",
    "good_words = words[ind[:10]]\n",
    "bad_words = words[ind[-10:]]\n",
    "\n",
    "good_prob = probs[ind[:10]]\n",
    "bad_prob = probs[ind[-10:]]\n",
    "\n",
    "print(\"Good words\\t     P(fresh | word)\")\n",
    "for w, p in zip(good_words, good_prob):\n",
    "    print(\"{:>20}\".format(w), \"{:.2f}\".format(1 - np.exp(p)))\n",
    "    \n",
    "print(\"Bad words\\t     P(fresh | word)\")\n",
    "for w, p in zip(bad_words, bad_prob):\n",
    "    print(\"{:>20}\".format(w), \"{:.2f}\".format(1 - np.exp(p)))"
   ]
  },
  {
   "cell_type": "markdown",
   "metadata": {},
   "source": [
    "<div class=\"span5 alert alert-info\">\n",
    "<h3>Exercise Set VI</h3>\n",
    "\n",
    "<p><b>Exercise:</b> Why does this method work? What does the probability for each row in the identity matrix represent</p>\n",
    "\n",
    "</div>"
   ]
  },
  {
   "cell_type": "markdown",
   "metadata": {},
   "source": [
    "> The process assigns a probability the word belongs to the class 'fresh'. The more occurences we have of that specific word in fresh the higher the likehood its a 'good' word. The probability for each row in the identity matrix represents the likelihood of a document being classified as 'fresh'. For example, if the probability of 'fresh' given a certain word is high then someone's quote will be given a 'fresh' rating for the given movie."
   ]
  },
  {
   "cell_type": "markdown",
   "metadata": {},
   "source": [
    "The above exercise is an example of *feature selection*. There are many other feature selection methods. A list of feature selection methods available in `sklearn` is [here](http://scikit-learn.org/stable/modules/classes.html#module-sklearn.feature_selection). The most common feature selection technique for text mining is the chi-squared $\\left( \\chi^2 \\right)$ [method](http://nlp.stanford.edu/IR-book/html/htmledition/feature-selectionchi2-feature-selection-1.html)."
   ]
  },
  {
   "cell_type": "markdown",
   "metadata": {},
   "source": [
    "### Prediction Errors\n",
    "\n",
    "We can see mis-predictions as well."
   ]
  },
  {
   "cell_type": "code",
   "execution_count": 26,
   "metadata": {},
   "outputs": [
    {
     "name": "stdout",
     "output_type": "stream",
     "text": [
      "Mis-predicted Rotten quotes\n",
      "---------------------------\n",
      "It survives today only as an unusually pure example of a typical 50s art-film strategy: the attempt to make the most modern and most popular of art forms acceptable to the intelligentsia by forcing it into an arcane, antique mold.\n",
      "\n",
      "This pacifist spirit of brotherhood echoes the heroics in Princess Mononoke and other anime titles, but the artistic gap between the Miyazaki masterpiece and this project is huge.\n",
      "\n",
      "For all the pleasure there is in seeing effective, great-looking black women grappling with major life issues on screen, Waiting to Exhale is an uneven piece.\n",
      "\n",
      "Part comedy, part family drama, part romance, part special-effects mystery-adventure, and not entirely satisfying on any of these levels.\n",
      "\n",
      "The thought that he may yet return for further adventures with his body and Lugosi's sconce fills us with mortal terror. That is the most fearful prospect which the picture manages to convey.\n",
      "\n",
      "Mis-predicted Fresh quotes\n",
      "--------------------------\n",
      "Some of the gags don't work, but fewer than in any previous Brooks film that I've seen, and when the jokes are meant to be bad, they are riotously poor. What more can one ask of Mel Brooks?\n",
      "\n",
      "Although overly sappy in places and probably 20 minutes too long, this Robin Williams-in-drag vehicle provides the comic a slick surface for doing his shtick, within a story possessing broad family appeal.\n",
      "\n",
      "There's too much talent and too strong a story to mess it up. There was potential for more here, but this incarnation is nothing to be ashamed of, and some of the actors answer the bell.\n",
      "\n",
      "The gangland plot is flimsy (bad guy Peter Greene wears too much eyeliner), and the jokes are erratic, but it's a far better showcase for Carrey's comic-from-Uranus talent than Ace Ventura.\n",
      "\n",
      "This tough-to-peg whodunit keeps you going for two hours, despite a few James Bond-ish (or Jane Bond-ish) turns that play less preposterously than you might assume were they to be divulged.\n",
      "\n"
     ]
    }
   ],
   "source": [
    "x, y = make_xy(critics, vectorizer)\n",
    "\n",
    "prob = clf.predict_proba(x)[:, 0]\n",
    "predict = clf.predict(x)\n",
    "\n",
    "bad_rotten = np.argsort(prob[y == 0])[:5]\n",
    "bad_fresh = np.argsort(prob[y == 1])[-5:]\n",
    "\n",
    "print(\"Mis-predicted Rotten quotes\")\n",
    "print('---------------------------')\n",
    "for row in bad_rotten:\n",
    "    print(critics[y == 0].quote.iloc[row])\n",
    "    print(\"\")\n",
    "\n",
    "print(\"Mis-predicted Fresh quotes\")\n",
    "print('--------------------------')\n",
    "for row in bad_fresh:\n",
    "    print(critics[y == 1].quote.iloc[row])\n",
    "    print(\"\")"
   ]
  },
  {
   "cell_type": "markdown",
   "metadata": {},
   "source": [
    "<div class=\"span5 alert alert-info\">\n",
    "<h3>Exercise Set VII: Predicting the Freshness for a New Review</h3>\n",
    "<br/>\n",
    "<div>\n",
    "<b>Exercise:</b>\n",
    "<ul>\n",
    "<li> Using your best trained classifier, predict the freshness of the following sentence: *'This movie is not remarkable, touching, or superb in any way'*\n",
    "<li> Is the result what you'd expect? Why (not)?\n",
    "</ul>\n",
    "</div>\n",
    "</div>"
   ]
  },
  {
   "cell_type": "code",
   "execution_count": 27,
   "metadata": {},
   "outputs": [
    {
     "data": {
      "text/plain": [
       "array([[ 0.00807413,  0.99192587]])"
      ]
     },
     "execution_count": 27,
     "metadata": {},
     "output_type": "execute_result"
    }
   ],
   "source": [
    "#your turn\n",
    "quote = vectorizer.transform(['This movie is not remarkable, touching, or superb in any way'])\n",
    "clf.predict_proba(quote)"
   ]
  },
  {
   "cell_type": "markdown",
   "metadata": {},
   "source": [
    "> It is a clear misclassification, which is not suprising since most words in the review are positive words"
   ]
  },
  {
   "cell_type": "code",
   "execution_count": 28,
   "metadata": {
    "scrolled": true
   },
   "outputs": [
    {
     "data": {
      "text/plain": [
       "array([[ 0.02751296,  0.97248704]])"
      ]
     },
     "execution_count": 28,
     "metadata": {},
     "output_type": "execute_result"
    }
   ],
   "source": [
    "#your turn\n",
    "quote = vectorizer.transform(['This movie is not, touching, or superb in any way'])\n",
    "clf.predict_proba(quote)"
   ]
  },
  {
   "cell_type": "markdown",
   "metadata": {},
   "source": [
    "> removing `remarkable` reduced the missclassification probability from 99% to 94.4%. But still far from classifying appropriately"
   ]
  },
  {
   "cell_type": "markdown",
   "metadata": {},
   "source": [
    "### Aside: TF-IDF Weighting for Term Importance\n",
    "\n",
    "TF-IDF stands for \n",
    "\n",
    "`Term-Frequency X Inverse Document Frequency`.\n",
    "\n",
    "In the standard `CountVectorizer` model above, we used just the term frequency in a document of words in our vocabulary. In TF-IDF, we weight this term frequency by the inverse of its popularity in all documents. For example, if the word \"movie\" showed up in all the documents, it would not have much predictive value. It could actually be considered a stopword. By weighing its counts by 1 divided by its overall frequency, we downweight it. We can then use this TF-IDF weighted features as inputs to any classifier. **TF-IDF is essentially a measure of term importance, and of how discriminative a word is in a corpus.** There are a variety of nuances involved in computing TF-IDF, mainly involving where to add the smoothing term to avoid division by 0, or log of 0 errors. The formula for TF-IDF in `scikit-learn` differs from that of most textbooks: \n",
    "\n",
    "$$\\mbox{TF-IDF}(t, d) = \\mbox{TF}(t, d)\\times \\mbox{IDF}(t) = n_{td} \\log{\\left( \\frac{\\vert D \\vert}{\\vert d : t \\in d \\vert} + 1 \\right)}$$\n",
    "\n",
    "where $n_{td}$ is the number of times term $t$ occurs in document $d$, $\\vert D \\vert$ is the number of documents, and $\\vert d : t \\in d \\vert$ is the number of documents that contain $t$"
   ]
  },
  {
   "cell_type": "code",
   "execution_count": 29,
   "metadata": {
    "collapsed": true
   },
   "outputs": [],
   "source": [
    "# http://scikit-learn.org/dev/modules/feature_extraction.html#text-feature-extraction\n",
    "# http://scikit-learn.org/dev/modules/classes.html#text-feature-extraction-ref\n",
    "from sklearn.feature_extraction.text import TfidfVectorizer\n",
    "tfidfvectorizer = TfidfVectorizer(min_df=1, stop_words='english')\n",
    "Xtfidf=tfidfvectorizer.fit_transform(critics.quote)"
   ]
  },
  {
   "cell_type": "markdown",
   "metadata": {},
   "source": [
    "<div class=\"span5 alert alert-info\">\n",
    "<h3>Exercise Set VIII: Enrichment <b>(Optional)</b></h3>\n",
    "\n",
    "<p>\n",
    "There are several additional things we could try. Try some of these as exercises:\n",
    "<ol>\n",
    "<li> Build a Naive Bayes model where the features are n-grams instead of words. N-grams are phrases containing n words next to each other: a bigram contains 2 words, a trigram contains 3 words, and 6-gram contains 6 words. This is useful because \"not good\" and \"so good\" mean very different things. On the other hand, as n increases, the model does not scale well since the feature set becomes more sparse.\n",
    "<li> Try a model besides Naive Bayes, one that would allow for interactions between words -- for example, a Random Forest classifier.\n",
    "<li> Try adding supplemental features -- information about genre, director, cast, etc.\n",
    "<li> Use word2vec or [Latent Dirichlet Allocation](https://en.wikipedia.org/wiki/Latent_Dirichlet_allocation) to group words into topics and use those topics for prediction.\n",
    "<li> Use TF-IDF weighting instead of word counts.\n",
    "</ol>\n",
    "</p>\n",
    "\n",
    "<b>Exercise:</b> Try at least one of these ideas to improve the model (or any other ideas of your own). Implement here and report on the result. \n",
    "</div>"
   ]
  },
  {
   "cell_type": "markdown",
   "metadata": {},
   "source": [
    "<b>1 Build a Naive Bayes model where the features are n-grams</b>"
   ]
  },
  {
   "cell_type": "code",
   "execution_count": 30,
   "metadata": {},
   "outputs": [
    {
     "name": "stdout",
     "output_type": "stream",
     "text": [
      "Accuracy on training data: 0.775112\n",
      "Accuracy on test data:     0.648274\n"
     ]
    }
   ],
   "source": [
    "# Your turn\n",
    "vectorizer = CountVectorizer(ngram_range=(2,8), min_df=best_min_df)\n",
    "X, y = make_xy(critics, vectorizer)\n",
    "xtrain=X[mask]\n",
    "ytrain=y[mask]\n",
    "xtest=X[~mask]\n",
    "ytest=y[~mask]\n",
    "\n",
    "clf = MultinomialNB(alpha=best_alpha).fit(xtrain, ytrain)\n",
    "\n",
    "training_accuracy = clf.score(xtrain, ytrain)\n",
    "test_accuracy = clf.score(xtest, ytest)\n",
    "\n",
    "print(\"Accuracy on training data: {:2f}\".format(training_accuracy))\n",
    "print(\"Accuracy on test data:     {:2f}\".format(test_accuracy))"
   ]
  },
  {
   "cell_type": "code",
   "execution_count": 31,
   "metadata": {},
   "outputs": [
    {
     "name": "stdout",
     "output_type": "stream",
     "text": [
      "Accuracy on training data: 0.848362\n",
      "Accuracy on test data:     0.729802\n"
     ]
    }
   ],
   "source": [
    "vectorizer = CountVectorizer(ngram_range=(1, 1), min_df=best_min_df)\n",
    "X, y = make_xy(critics, vectorizer)\n",
    "xtrain=X[mask]\n",
    "ytrain=y[mask]\n",
    "xtest=X[~mask]\n",
    "ytest=y[~mask]\n",
    "\n",
    "clf = MultinomialNB(alpha=best_alpha).fit(xtrain, ytrain)\n",
    "\n",
    "training_accuracy = clf.score(xtrain, ytrain)\n",
    "test_accuracy = clf.score(xtest, ytest)\n",
    "\n",
    "print(\"Accuracy on training data: {:2f}\".format(training_accuracy))\n",
    "print(\"Accuracy on test data:     {:2f}\".format(test_accuracy))"
   ]
  },
  {
   "cell_type": "markdown",
   "metadata": {},
   "source": [
    "> 1 grams outperform 2 to 8 grams"
   ]
  },
  {
   "cell_type": "markdown",
   "metadata": {},
   "source": [
    "<b> 2 Try a model besides Naive Bayes, one that would allow for interactions between words</b>"
   ]
  },
  {
   "cell_type": "code",
   "execution_count": 32,
   "metadata": {},
   "outputs": [
    {
     "name": "stdout",
     "output_type": "stream",
     "text": [
      "Accuracy on training data: 0.998715\n",
      "Accuracy on test data: 0.690599\n"
     ]
    }
   ],
   "source": [
    "from sklearn.ensemble import RandomForestClassifier\n",
    "\n",
    "vectorizer = CountVectorizer(min_df = best_min_df)\n",
    "X,y = make_xy(critics, vectorizer)\n",
    "xtrain = X[mask]\n",
    "ytrain = y[mask]\n",
    "xtest = X[~mask]\n",
    "ytest = y[~mask]\n",
    "\n",
    "clf = RandomForestClassifier(n_estimators=100).fit(xtrain,ytrain)\n",
    "training_accuracy = clf.score(xtrain, ytrain)\n",
    "test_accuracy = clf.score(xtest, ytest)\n",
    "\n",
    "print(\"Accuracy on training data: {:2f}\".format(training_accuracy))\n",
    "print(\"Accuracy on test data: {:2f}\".format(test_accuracy))"
   ]
  },
  {
   "cell_type": "markdown",
   "metadata": {},
   "source": [
    "> It is overfitting with worse off predictability"
   ]
  },
  {
   "cell_type": "markdown",
   "metadata": {},
   "source": [
    "<b> 3 Try adding supplemental features -- information about genre, director, cast, etc. </b>"
   ]
  },
  {
   "cell_type": "markdown",
   "metadata": {},
   "source": [
    "We will need to scrape the data from imdb since this information does not exist in our dataset"
   ]
  },
  {
   "cell_type": "code",
   "execution_count": 33,
   "metadata": {},
   "outputs": [
    {
     "data": {
      "text/html": [
       "<div>\n",
       "<style scoped>\n",
       "    .dataframe tbody tr th:only-of-type {\n",
       "        vertical-align: middle;\n",
       "    }\n",
       "\n",
       "    .dataframe tbody tr th {\n",
       "        vertical-align: top;\n",
       "    }\n",
       "\n",
       "    .dataframe thead th {\n",
       "        text-align: right;\n",
       "    }\n",
       "</style>\n",
       "<table border=\"1\" class=\"dataframe\">\n",
       "  <thead>\n",
       "    <tr style=\"text-align: right;\">\n",
       "      <th></th>\n",
       "      <th>critic</th>\n",
       "      <th>fresh</th>\n",
       "      <th>imdb</th>\n",
       "      <th>publication</th>\n",
       "      <th>quote</th>\n",
       "      <th>review_date</th>\n",
       "      <th>rtid</th>\n",
       "      <th>title</th>\n",
       "    </tr>\n",
       "  </thead>\n",
       "  <tbody>\n",
       "    <tr>\n",
       "      <th>1</th>\n",
       "      <td>Derek Adams</td>\n",
       "      <td>fresh</td>\n",
       "      <td>114709</td>\n",
       "      <td>Time Out</td>\n",
       "      <td>So ingenious in concept, design and execution ...</td>\n",
       "      <td>2009-10-04</td>\n",
       "      <td>9559</td>\n",
       "      <td>Toy story</td>\n",
       "    </tr>\n",
       "    <tr>\n",
       "      <th>2</th>\n",
       "      <td>Richard Corliss</td>\n",
       "      <td>fresh</td>\n",
       "      <td>114709</td>\n",
       "      <td>TIME Magazine</td>\n",
       "      <td>The year's most inventive comedy.</td>\n",
       "      <td>2008-08-31</td>\n",
       "      <td>9559</td>\n",
       "      <td>Toy story</td>\n",
       "    </tr>\n",
       "    <tr>\n",
       "      <th>3</th>\n",
       "      <td>David Ansen</td>\n",
       "      <td>fresh</td>\n",
       "      <td>114709</td>\n",
       "      <td>Newsweek</td>\n",
       "      <td>A winning animated feature that has something ...</td>\n",
       "      <td>2008-08-18</td>\n",
       "      <td>9559</td>\n",
       "      <td>Toy story</td>\n",
       "    </tr>\n",
       "    <tr>\n",
       "      <th>4</th>\n",
       "      <td>Leonard Klady</td>\n",
       "      <td>fresh</td>\n",
       "      <td>114709</td>\n",
       "      <td>Variety</td>\n",
       "      <td>The film sports a provocative and appealing st...</td>\n",
       "      <td>2008-06-09</td>\n",
       "      <td>9559</td>\n",
       "      <td>Toy story</td>\n",
       "    </tr>\n",
       "    <tr>\n",
       "      <th>5</th>\n",
       "      <td>Jonathan Rosenbaum</td>\n",
       "      <td>fresh</td>\n",
       "      <td>114709</td>\n",
       "      <td>Chicago Reader</td>\n",
       "      <td>An entertaining computer-generated, hyperreali...</td>\n",
       "      <td>2008-03-10</td>\n",
       "      <td>9559</td>\n",
       "      <td>Toy story</td>\n",
       "    </tr>\n",
       "  </tbody>\n",
       "</table>\n",
       "</div>"
      ],
      "text/plain": [
       "               critic  fresh    imdb     publication                                              quote review_date  rtid      title\n",
       "1         Derek Adams  fresh  114709        Time Out  So ingenious in concept, design and execution ...  2009-10-04  9559  Toy story\n",
       "2     Richard Corliss  fresh  114709   TIME Magazine                  The year's most inventive comedy.  2008-08-31  9559  Toy story\n",
       "3         David Ansen  fresh  114709        Newsweek  A winning animated feature that has something ...  2008-08-18  9559  Toy story\n",
       "4       Leonard Klady  fresh  114709         Variety  The film sports a provocative and appealing st...  2008-06-09  9559  Toy story\n",
       "5  Jonathan Rosenbaum  fresh  114709  Chicago Reader  An entertaining computer-generated, hyperreali...  2008-03-10  9559  Toy story"
      ]
     },
     "execution_count": 33,
     "metadata": {},
     "output_type": "execute_result"
    }
   ],
   "source": [
    "critics.head()"
   ]
  },
  {
   "cell_type": "markdown",
   "metadata": {},
   "source": [
    "<b>4 Use word2vec or Latent Dirichlet Allocation to group words into topics and use those topics for prediction.</b>"
   ]
  },
  {
   "cell_type": "code",
   "execution_count": 34,
   "metadata": {
    "collapsed": true
   },
   "outputs": [],
   "source": [
    "from sklearn.decomposition import LatentDirichletAllocation\n",
    "\n",
    "vectorizer = CountVectorizer(min_df=best_min_df)\n",
    "X, y = make_xy(critics, vectorizer)\n",
    "xtrain=X[mask]\n",
    "ytrain=y[mask]\n",
    "xtest=X[~mask]\n",
    "ytest=y[~mask]\n",
    "\n",
    "lda = LatentDirichletAllocation(n_components =10, max_iter=5,\n",
    "                                learning_method='online',\n",
    "                                learning_offset=50.,\n",
    "                                random_state=0).fit(X)"
   ]
  },
  {
   "cell_type": "code",
   "execution_count": 35,
   "metadata": {},
   "outputs": [
    {
     "name": "stdout",
     "output_type": "stream",
     "text": [
      "\n",
      "Topics in LDA model:\n",
      "Topic #:0\n",
      "more--than--own--better--less\n",
      "Topic #:1\n",
      "you--will--not--if--it\n",
      "Topic #:2\n",
      "as--made--and--an--over\n",
      "Topic #:3\n",
      "to--it--be--but--the\n",
      "Topic #:4\n",
      "the--and--of--is--it\n",
      "Topic #:5\n",
      "time--of--and--good--her\n",
      "Topic #:6\n",
      "seems--have--his--right--should\n",
      "Topic #:7\n",
      "not--and--comedy--high--an\n",
      "Topic #:8\n",
      "the--of--and--is--in\n",
      "Topic #:9\n",
      "fun--acting--disney--feature--full\n"
     ]
    }
   ],
   "source": [
    "print(\"\\nTopics in LDA model:\")\n",
    "features = vectorizer.get_feature_names()\n",
    "\n",
    "for topic_id, topic in enumerate(lda.components_):\n",
    "    print('Topic #:' + str(topic_id))\n",
    "    print(\"--\".join([features[i] for i in topic.argsort()[:-6:-1]]))"
   ]
  },
  {
   "cell_type": "markdown",
   "metadata": {},
   "source": [
    "<b>5 Use TF-IDF weighting instead of word counts.</b>"
   ]
  },
  {
   "cell_type": "code",
   "execution_count": 36,
   "metadata": {},
   "outputs": [
    {
     "name": "stdout",
     "output_type": "stream",
     "text": [
      "Accuracy on training data: 0.718141\n",
      "Accuracy on test data:     0.660118\n"
     ]
    }
   ],
   "source": [
    "from sklearn.feature_extraction.text import TfidfVectorizer\n",
    "\n",
    "vectorizer = TfidfVectorizer(min_df=best_min_df)\n",
    "X, y = make_xy(critics, vectorizer)\n",
    "xtrain=X[mask]\n",
    "ytrain=y[mask]\n",
    "xtest=X[~mask]\n",
    "ytest=y[~mask]\n",
    "\n",
    "clf = MultinomialNB(alpha=best_alpha).fit(xtrain, ytrain)\n",
    "\n",
    "training_accuracy = clf.score(xtrain, ytrain)\n",
    "test_accuracy = clf.score(xtest, ytest)\n",
    "\n",
    "print(\"Accuracy on training data: {:2f}\".format(training_accuracy))\n",
    "print(\"Accuracy on test data:     {:2f}\".format(test_accuracy))"
   ]
  }
 ],
 "metadata": {
  "hide_input": false,
  "kernelspec": {
   "display_name": "Python 3",
   "language": "python",
   "name": "python3"
  },
  "language_info": {
   "codemirror_mode": {
    "name": "ipython",
    "version": 3
   },
   "file_extension": ".py",
   "mimetype": "text/x-python",
   "name": "python",
   "nbconvert_exporter": "python",
   "pygments_lexer": "ipython3",
   "version": "3.6.3"
  },
  "toc": {
   "nav_menu": {},
   "number_sections": true,
   "sideBar": true,
   "skip_h1_title": false,
   "toc_cell": false,
   "toc_position": {},
   "toc_section_display": "block",
   "toc_window_display": false
  }
 },
 "nbformat": 4,
 "nbformat_minor": 1
}
