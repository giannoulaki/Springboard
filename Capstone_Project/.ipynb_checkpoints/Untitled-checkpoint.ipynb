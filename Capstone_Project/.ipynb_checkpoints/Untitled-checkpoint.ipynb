{
 "cells": [
  {
   "cell_type": "code",
   "execution_count": 2,
   "metadata": {},
   "outputs": [
    {
     "data": {
      "text/html": [
       "<script> code_shown=true;function code_toggle() {if (code_shown){$('div.input').hide();$('#toggleButton').val('Show Code')} else {$('div.input').show();$('#toggleButton').val('Hide Code')}code_shown = !code_shown}$( document ).ready(code_toggle);</script><form action=\"javascript:code_toggle()\"><input type=\"submit\" id=\"toggleButton\"></form>"
      ],
      "text/plain": [
       "<IPython.core.display.HTML object>"
      ]
     },
     "execution_count": 2,
     "metadata": {},
     "output_type": "execute_result"
    }
   ],
   "source": [
    "HTML('''<script> code_shown=true;function code_toggle() {if (code_shown){$('div.input').hide();$('#toggleButton').val('Show Code')} else {$('div.input').show();$('#toggleButton').val('Hide Code')}code_shown = !code_shown}$( document ).ready(code_toggle);</script><form action=\"javascript:code_toggle()\"><input type=\"submit\" id=\"toggleButton\"></form>''')"
   ]
  },
  {
   "cell_type": "markdown",
   "metadata": {
    "slideshow": {
     "slide_type": "slide"
    }
   },
   "source": [
    "#this is a test"
   ]
  },
  {
   "cell_type": "code",
   "execution_count": 1,
   "metadata": {
    "collapsed": true,
    "slideshow": {
     "slide_type": "skip"
    }
   },
   "outputs": [],
   "source": [
    "import numpy as np\n",
    "import pandas as pd\n",
    "from pandas.io.json import json_normalize\n",
    "import seaborn as sns\n",
    "import json\n",
    "import warnings\n",
    "from IPython.lib.display import YouTubeVideo\n",
    "import re\n",
    "from IPython.core.display import display, HTML\n",
    "pd.set_option('display.max_colwidth', -1) #for all data of df to be seen\n",
    "import matplotlib.pyplot as plt\n",
    "import matplotlib as mtpl\n",
    "import math"
   ]
  },
  {
   "cell_type": "markdown",
   "metadata": {
    "slideshow": {
     "slide_type": "slide"
    }
   },
   "source": [
    "<img src=\"https://cdn.vox-cdn.com/thumbor/SfyqZw6l_jidAYdkqYEis-Omdho=/0x0:1680x1050/1200x675/filters:focal(706x391:974x659):no_upscale()/cdn.vox-cdn.com/uploads/chorus_image/image/56414327/YTLogo_old_new_animation.0.gif\" width=\"600\" height=\"240\" align=\"center\"/>"
   ]
  },
  {
   "cell_type": "code",
   "execution_count": 2,
   "metadata": {
    "slideshow": {
     "slide_type": "slide"
    }
   },
   "outputs": [
    {
     "data": {
      "text/plain": [
       "2"
      ]
     },
     "execution_count": 2,
     "metadata": {},
     "output_type": "execute_result"
    }
   ],
   "source": [
    "1+1"
   ]
  },
  {
   "cell_type": "code",
   "execution_count": 3,
   "metadata": {
    "collapsed": true,
    "slideshow": {
     "slide_type": "skip"
    }
   },
   "outputs": [],
   "source": [
    "# Upload Data\n",
    "US_videos = pd.read_csv('USvideos.csv.zip')\n",
    "US_videos_categories = pd.read_json('US_category_id.json')\n",
    "CA_videos = pd.read_csv('CAvideos.csv.zip')\n",
    "CA_videos_categories = pd.read_json('CA_category_id.json')\n",
    "GB_videos = pd.read_csv('GBvideos.csv.zip')\n",
    "GB_videos_categories = pd.read_json('GB_category_id.json')\n",
    "FR_videos = pd.read_csv('FRvideos.csv.zip')\n",
    "FR_videos_categories = pd.read_json('FR_category_id.json')\n",
    "DE_videos = pd.read_csv('DEvideos.csv.zip')\n",
    "DE_videos_categories = pd.read_json('DE_category_id.json')"
   ]
  },
  {
   "cell_type": "code",
   "execution_count": 4,
   "metadata": {
    "collapsed": true,
    "slideshow": {
     "slide_type": "skip"
    }
   },
   "outputs": [],
   "source": [
    "#Create the video df\n",
    "#df_videos = pd.concat([US_videos, CA_videos, GB_videos, FR_videos, DE_videos])\n",
    "videos_list = [US_videos, CA_videos, GB_videos, FR_videos, DE_videos]\n",
    "videos_all = pd.concat(videos_list, keys=['US', 'CA', 'GB', 'FR', 'DE'], names=['Country', 'Row ID'])"
   ]
  },
  {
   "cell_type": "code",
   "execution_count": 5,
   "metadata": {
    "collapsed": true,
    "slideshow": {
     "slide_type": "skip"
    }
   },
   "outputs": [],
   "source": [
    "#Create the video categories df¶\n",
    "#df_videos_categ = pd.concat([US_videos_categories, CA_videos_categories, GB_videos_categories,  FR_videos_categories, DE_videos_categories])\n",
    "US_videos_categories['country'] = 'US'\n",
    "GB_videos_categories['country'] = 'GB'\n",
    "CA_videos_categories['country'] = 'CA'\n",
    "FR_videos_categories['country'] = 'FR'\n",
    "DE_videos_categories['country'] = 'DE'\n",
    "\n",
    "df_videos_categ = pd.concat([US_videos_categories, \n",
    "                             CA_videos_categories, \n",
    "                             GB_videos_categories,  \n",
    "                             FR_videos_categories, \n",
    "                             DE_videos_categories], keys=['US', 'CA', 'GB', 'FR', 'DE'])"
   ]
  },
  {
   "cell_type": "code",
   "execution_count": 6,
   "metadata": {
    "collapsed": true,
    "slideshow": {
     "slide_type": "skip"
    }
   },
   "outputs": [],
   "source": [
    "# problem with some data errors='coerce' needed\n",
    "videos_all['publish_time'] = pd.to_datetime(videos_all['publish_time'],  format='%Y-%m-%dT%H:%M:%S.%fZ', errors='coerce')"
   ]
  },
  {
   "cell_type": "code",
   "execution_count": 7,
   "metadata": {
    "collapsed": true,
    "slideshow": {
     "slide_type": "notes"
    }
   },
   "outputs": [],
   "source": [
    "videos_all['publish_date'] = videos_all.publish_time.dt.date\n",
    "videos_all['publish_month'] = videos_all.publish_time.dt.month\n",
    "videos_all['publish_day'] = videos_all.publish_time.dt.day\n",
    "videos_all['publish_hour'] = videos_all.publish_time.dt.hour"
   ]
  },
  {
   "cell_type": "code",
   "execution_count": 8,
   "metadata": {
    "collapsed": true,
    "slideshow": {
     "slide_type": "slide"
    }
   },
   "outputs": [],
   "source": [
    "videos_all = videos_all[(videos_all['trending_date'] != '29441')].copy()"
   ]
  },
  {
   "cell_type": "code",
   "execution_count": 9,
   "metadata": {
    "collapsed": true,
    "slideshow": {
     "slide_type": "subslide"
    }
   },
   "outputs": [],
   "source": [
    "videos_all['trending_date'] = pd.to_datetime(videos_all['trending_date'], format='%y.%d.%m')"
   ]
  },
  {
   "cell_type": "code",
   "execution_count": 10,
   "metadata": {
    "collapsed": true,
    "slideshow": {
     "slide_type": "subslide"
    }
   },
   "outputs": [],
   "source": [
    "#iteritems, 'function' object is not iterable, has to be trated as function \n",
    "for column_name, el in df_videos_categ.items():\n",
    "    if column_name == 'items':\n",
    "        category_df = json_normalize(el)[['id', 'snippet.title']]\n",
    "category_df['country'] = list(df_videos_categ['country'])"
   ]
  },
  {
   "cell_type": "code",
   "execution_count": 11,
   "metadata": {
    "collapsed": true,
    "slideshow": {
     "slide_type": "fragment"
    }
   },
   "outputs": [],
   "source": [
    "category_df['id']=category_df['id'].astype(int)"
   ]
  },
  {
   "cell_type": "code",
   "execution_count": 12,
   "metadata": {
    "collapsed": true,
    "slideshow": {
     "slide_type": "fragment"
    }
   },
   "outputs": [],
   "source": [
    "df_videos=pd.merge(videos_all.reset_index(), category_df, left_on=['category_id', 'Country'], \n",
    "                   right_on=['id', 'country'], how='inner')"
   ]
  },
  {
   "cell_type": "code",
   "execution_count": 13,
   "metadata": {
    "collapsed": true,
    "slideshow": {
     "slide_type": "fragment"
    }
   },
   "outputs": [],
   "source": [
    "df_videos.fillna(0, inplace=True)"
   ]
  },
  {
   "cell_type": "code",
   "execution_count": 14,
   "metadata": {
    "collapsed": true,
    "slideshow": {
     "slide_type": "skip"
    }
   },
   "outputs": [],
   "source": [
    "df_videos.likes = pd.to_numeric(df_videos.likes, errors='coerse')\n",
    "\n",
    "tmp = pd.to_numeric(df_videos.views, errors='coerse').copy()\n",
    "del df_videos['views']\n",
    "df_videos['views'] = tmp.copy()\n",
    "df_videos.comment_count = pd.to_numeric(df_videos.comment_count, errors='coerse')\n",
    "df_videos.dislikes = pd.to_numeric(df_videos.dislikes, errors='coerse')"
   ]
  },
  {
   "cell_type": "markdown",
   "metadata": {
    "slideshow": {
     "slide_type": "slide"
    }
   },
   "source": [
    "some youtbu vieos"
   ]
  },
  {
   "cell_type": "code",
   "execution_count": 15,
   "metadata": {
    "slideshow": {
     "slide_type": "fragment"
    }
   },
   "outputs": [
    {
     "data": {
      "text/html": [
       "<table><tr><td><iframe width=\"250\" height=\"300\" src=\"https://www.youtube.com/embed/_I_D_8Z4sJE\" frameborder=\"0\"     allow=\"autoplay; encrypted-media\" allowfullscreen></iframe></td><td><iframe width=\"250\" height=\"300\" src=\"https://www.youtube.com/embed/kLpH1nSLJSs\" frameborder=\"0\"     allow=\"autoplay; encrypted-media\" allowfullscreen></iframe></td><td><iframe width=\"250\" height=\"300\" src=\"https://www.youtube.com/embed/xpVfcZ0ZcFM\" frameborder=\"0\"     allow=\"autoplay; encrypted-media\" allowfullscreen></iframe></td></tr></table>"
      ],
      "text/plain": [
       "<IPython.core.display.HTML object>"
      ]
     },
     "metadata": {},
     "output_type": "display_data"
    },
    {
     "data": {
      "text/html": [
       "<table><tr><td><iframe width=\"250\" height=\"300\" src=\"https://www.youtube.com/embed/FlsCjmMhFmw\" frameborder=\"0\"     allow=\"autoplay; encrypted-media\" allowfullscreen></iframe></td><td><iframe width=\"250\" height=\"300\" src=\"https://www.youtube.com/embed/wfWkmURBNv8\" frameborder=\"0\"     allow=\"autoplay; encrypted-media\" allowfullscreen></iframe></td><td><iframe width=\"250\" height=\"300\" src=\"https://www.youtube.com/embed/wfWkmURBNv8\" frameborder=\"0\"     allow=\"autoplay; encrypted-media\" allowfullscreen></iframe></td></tr></table>"
      ],
      "text/plain": [
       "<IPython.core.display.HTML object>"
      ]
     },
     "metadata": {},
     "output_type": "display_data"
    },
    {
     "data": {
      "text/html": [
       "<table><tr><td><iframe width=\"250\" height=\"300\" src=\"https://www.youtube.com/embed/BhIEIO0vaBE\" frameborder=\"0\"     allow=\"autoplay; encrypted-media\" allowfullscreen></iframe></td><td><iframe width=\"250\" height=\"300\" src=\"https://www.youtube.com/embed/6ZfuNTqbHE8\" frameborder=\"0\"     allow=\"autoplay; encrypted-media\" allowfullscreen></iframe></td><td><iframe width=\"250\" height=\"300\" src=\"https://www.youtube.com/embed/tCXGJQYZ9JA\" frameborder=\"0\"     allow=\"autoplay; encrypted-media\" allowfullscreen></iframe></td></tr></table>"
      ],
      "text/plain": [
       "<IPython.core.display.HTML object>"
      ]
     },
     "metadata": {},
     "output_type": "display_data"
    }
   ],
   "source": [
    "sort_by = 'views'\n",
    "thump = df_videos.groupby(['title', 'thumbnail_link'])[['likes', 'views', 'comment_count', 'dislikes']].sum().\\\n",
    "    sort_values(sort_by, ascending=False)\n",
    "    \n",
    "video_id = [jpg[1] for jpg in thump.index]\n",
    "video_id = [re.search('.*/(.*)/default.*', i).group(1) for i in video_id[:len(video_id)-1]]\n",
    "\n",
    "def youtube(video_ids, width=300, height=200):\n",
    "    frame = '<td><iframe width=\"{}\" height=\"{}\" src=\"https://www.youtube.com/embed/{}\" frameborder=\"0\" \\\n",
    "    allow=\"autoplay; encrypted-media\" allowfullscreen></iframe></td>'\n",
    "    iframes = []\n",
    "    for vid in video_ids:\n",
    "        iframes.append(frame.format(width, height, vid))\n",
    "    frame = '<table><tr>{}</tr></table>'.format(''.join(iframes))\n",
    "    return HTML(frame)\n",
    "\n",
    "\n",
    "display(youtube([video_id[0], video_id[1], video_id[2]], width=250, height=300))\n",
    "display(youtube([video_id[3], video_id[4], video_id[4]], width=250, height=300))\n",
    "display(youtube([video_id[5], video_id[6], video_id[7]], width=250, height=300))"
   ]
  },
  {
   "cell_type": "code",
   "execution_count": 16,
   "metadata": {
    "slideshow": {
     "slide_type": "slide"
    }
   },
   "outputs": [
    {
     "data": {
      "image/png": "[encoded data removed]",
      "text/plain": [
       "<matplotlib.figure.Figure at 0x20f63ca7d30>"
      ]
     },
     "metadata": {},
     "output_type": "display_data"
    },
    {
     "data": {
      "text/plain": [
       "<matplotlib.figure.Figure at 0x20f61203c18>"
      ]
     },
     "metadata": {},
     "output_type": "display_data"
    }
   ],
   "source": [
    "\n",
    "metrics = ['likes','views','comment_count','dislikes']\n",
    "df_videos_title = df_videos.reset_index().groupby(['country', 'title'])[metrics].sum()\n",
    "likes = df_videos_title.sort_values('likes',ascending=True)\n",
    "\n",
    "likes['likes'] = likes.likes / 1000000\n",
    "likes['comment_count'] = likes.comment_count / 1000000\n",
    "likes['dislikes'] = likes.dislikes / 1000000\n",
    "likes['views'] = likes.comment_count / 1000000\n",
    "\n",
    "likes.reset_index(inplace=True)\n",
    "likes.tail(10).plot(kind='barh',x='title',y='likes',title= '10 most liked videos (likes in mil)', color='green', sort_columns=True)\n",
    "plt.figure(figsize = (16,6))\n",
    "\n",
    "plt.show()"
   ]
  }
 ],
 "metadata": {
  "celltoolbar": "Slideshow",
  "kernelspec": {
   "display_name": "Python 3",
   "language": "python",
   "name": "python3"
  },
  "language_info": {
   "codemirror_mode": {
    "name": "ipython",
    "version": 3
   },
   "file_extension": ".py",
   "mimetype": "text/x-python",
   "name": "python",
   "nbconvert_exporter": "python",
   "pygments_lexer": "ipython3",
   "version": "3.6.3"
  },
  "toc": {
   "nav_menu": {},
   "number_sections": true,
   "sideBar": true,
   "skip_h1_title": false,
   "toc_cell": false,
   "toc_position": {},
   "toc_section_display": "block",
   "toc_window_display": false
  }
 },
 "nbformat": 4,
 "nbformat_minor": 2
}
